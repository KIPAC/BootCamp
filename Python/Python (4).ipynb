{
 "cells": [
  {
   "cell_type": "markdown",
   "metadata": {},
   "source": [
    "# Python Object Oriented Programming\n",
    "\n",
    "This is a tutorial on basic Python syntax and concepts for the [KIPAC computing boot camp](http://kipac.github.io/BootCamp).\n",
    "\n",
    "Author: [Sean McLaughlin](https://github.com/mclaughlin6464)"
   ]
  },
  {
   "cell_type": "markdown",
   "metadata": {},
   "source": [
    "Object Oriented Programming (OOP) is arguably the most popular programming paradigm. It refers to a \"style\" of programming, partly in the user's control and partly emphasized by the programming language itself. \n",
    "\n",
    "Python, for example, was built from the start as an OOP language. That means that much of the language's built-ins follow and OOP design, and making your own objects is easy. It also gives some insight into how python works under the hood.\n",
    "\n",
    "**Disclaimer:** OOP is a powerful and popular programming paradigm. It is not, however, the only one. Some people have very, *very* strong opinions on this. For the next hour, we'll ignore those people. However, keep in mind going forward there are other was to design a program, and OOP is not always the best way! "
   ]
  },
  {
   "cell_type": "markdown",
   "metadata": {},
   "source": [
    "-----\n",
    "### Part 0: What is OOP?"
   ]
  },
  {
   "cell_type": "markdown",
   "metadata": {},
   "source": [
    "What *is* an object?\n",
    "\n",
    "Well, first what *is* programming? \n",
    "\n",
    "Programming, in the most abstract sense, is defining logic to perform manipulations on data. It's a simulation of some operation, real or abstract. \n",
    "\n",
    "An object is an abstract... um... *object* that contains both its relevant data and functions to manipulate that data. It follows from the idea that what we really care about are these abstract objects than the logic or data separately. They are building blocks you can use to construct your programs. "
   ]
  },
  {
   "cell_type": "markdown",
   "metadata": {},
   "source": [
    "Ok sure but... what *is* an object?\n",
    "\n",
    "It can be a lot of things. It can represent something real, like a student or an astronomical object. It can represent something more abstract, like a statistical model or a cosmology. It could even be something completely abstract. For example, all the widgets and cells in this notebook are actually instances of objects within the Jupyter code. \n",
    "\n",
    "\n",
    "Programming with objects allows you to design your programs the way you actually understand the logic yourself. "
   ]
  },
  {
   "cell_type": "markdown",
   "metadata": {},
   "source": [
    "---\n",
    "### Part 1: Python Classes "
   ]
  },
  {
   "cell_type": "markdown",
   "metadata": {},
   "source": [
    "Let's make a simple class to get started. "
   ]
  },
  {
   "cell_type": "code",
   "execution_count": 1,
   "metadata": {
    "collapsed": true
   },
   "outputs": [],
   "source": [
    "from __future__ import print_function"
   ]
  },
  {
   "cell_type": "code",
   "execution_count": 3,
   "metadata": {},
   "outputs": [],
   "source": [
    "class Student(object):\n",
    "    'A class defining a student!'\n",
    "    \n",
    "    def __init__(self, name, gpa, major = 'Physics'):\n",
    "        '''\n",
    "        Initialize the student. \n",
    "        \n",
    "        name: String, the student's name\n",
    "        gpa: The student's overall gpa\n",
    "        major: The student's major. Default is Physics. \n",
    "        '''\n",
    "        self.name = name\n",
    "        self.gpa = gpa\n",
    "        self.major = major\n",
    "        \n",
    "    def change_major(self, new_major):\n",
    "        '''\n",
    "        Change the student's major. \n",
    "        \n",
    "        new_major: str, the student's new major\n",
    "        '''\n",
    "        if new_major != self.major:\n",
    "            self.major=new_major\n",
    "        else:\n",
    "            print(\"%s is already %s's major!\"%(self.major, self.name) )\n",
    "        "
   ]
  },
  {
   "cell_type": "markdown",
   "metadata": {},
   "source": [
    "There's a lot to unpack here, so lets break it down. We've defined a class `Student` that has three attributes and two methods.\n",
    "\n",
    "The attributes are:\n",
    "* name\n",
    "* gpa\n",
    "* major\n",
    "\n",
    "And the methods are:\n",
    "* \\__init__\n",
    "* change_major\n",
    "\n",
    "How do these work? Let's make some instances to see. "
   ]
  },
  {
   "cell_type": "code",
   "execution_count": 4,
   "metadata": {},
   "outputs": [
    {
     "name": "stdout",
     "output_type": "stream",
     "text": [
      "<class '__main__.Student'> True\n",
      "Sean 3.0 Physics\n"
     ]
    }
   ],
   "source": [
    "student1 = Student('Sean', 3.0)\n",
    "print(type(student1), isinstance(student1, Student) )\n",
    "print(student1.name, student1.gpa, student1.major )"
   ]
  },
  {
   "cell_type": "code",
   "execution_count": 5,
   "metadata": {},
   "outputs": [
    {
     "name": "stdout",
     "output_type": "stream",
     "text": [
      "Physics is already Sean's major!\n"
     ]
    }
   ],
   "source": [
    "student2 = Student('Alice', 4.5, major='Biology')\n",
    "\n",
    "student2.change_major('Physics')#she wised up\n",
    "student1.change_major('Physics')#this should print! "
   ]
  },
  {
   "cell_type": "code",
   "execution_count": 7,
   "metadata": {},
   "outputs": [
    {
     "name": "stdout",
     "output_type": "stream",
     "text": [
      "A class defining a student!\n"
     ]
    }
   ],
   "source": [
    "print(student1.__doc__) #access the docstring"
   ]
  },
  {
   "cell_type": "markdown",
   "metadata": {},
   "source": [
    "There's a few things to notice here:\n",
    "* student1 and student2 are *instances* of the student object. \n",
    "* We can access a Student's attributes and methods via `.` syntax\n",
    "* The \\__init\\__ method is what is called the *constructor*. It details the initialization of the instance. \n",
    "* Both methods have *self* as their first argument, but it is not passed in when called. This is how class methods are defined, and allows them to access the object's attributes.\n",
    "* Pay close attention to how the `Student` object is declared. It *inherits* from the `object` class. We'll discuss what that means in more detail later, but it is not exactly necessary to do that. It is, however, strongly encouraged. "
   ]
  },
  {
   "cell_type": "code",
   "execution_count": 10,
   "metadata": {
    "collapsed": true
   },
   "outputs": [],
   "source": [
    "class Student2:\n",
    "    'A class defining a student!'\n",
    "    \n",
    "    def __init__(self, name, gpa, major = 'Physics'):\n",
    "        '''\n",
    "        Initialize the student. \n",
    "        \n",
    "        name: String, the student's name\n",
    "        gpa: The student's overall gpa\n",
    "        major: The student's major. Default is Physics. \n",
    "        '''\n",
    "        self.name = name\n",
    "        self.gpa = gpa\n",
    "        self.major = major\n",
    "        \n",
    "    def change_major(self, new_major):\n",
    "        '''\n",
    "        Change the student's major. \n",
    "        \n",
    "        new_major: str, the student's new major\n",
    "        '''\n",
    "        if new_major != self.major:\n",
    "            self.major=new_major\n",
    "        else:\n",
    "            print(\"%s is already %s's major!\"%(self.major, self.name) )\n",
    "        "
   ]
  },
  {
   "cell_type": "code",
   "execution_count": 11,
   "metadata": {},
   "outputs": [
    {
     "name": "stdout",
     "output_type": "stream",
     "text": [
      "Sean 3.0 Physics\n",
      "Physics is already Sean's major!\n",
      "A class defining a student!\n"
     ]
    }
   ],
   "source": [
    "#run the same code without inheriting from object\n",
    "student1 = Student2('Sean', 3.0)\n",
    "print(student1.name, student1.gpa, student1.major)\n",
    "student2 = Student2('Alice', 4.5, major='Biology')\n",
    "\n",
    "student2.change_major('Physics')#she wised up\n",
    "student1.change_major('Physics')#this should print! \n",
    "print(student1.__doc__ )#access the docstring"
   ]
  },
  {
   "cell_type": "markdown",
   "metadata": {},
   "source": [
    "Python 2 supports these \"old style classes\" for backward compatibility reasons, but Python 3 does not. They function the same way in a number of ways, but they differ in subtle ways; just use new style classes! You can read more about the details [here](https://wiki.python.org/moin/NewClassVsClassicClass). \n",
    "\n",
    "---\n",
    "### Excercise 1\n",
    "#### Answers Below\n",
    "Define a class named `Professor` with the following attributes:\n",
    "* A name attribute\n",
    "* An integer attribute `n_papers`\n",
    "* A boolean attribute `tenure` that defaults to `False`.\n",
    "* A `group` attribute that is a list of `Student` objects that defaults to `[]`. \n",
    "\n",
    "And the following methods:\n",
    "* An `__init__` method that initializes the attributes\n",
    "* A `write_paper` method that increments `n_papers` by one. \n",
    "* A `check_tenure` method that sets `tenure` to true if `n_papers` is greater than 10. \n",
    "\n",
    "Make sure to test it out! "
   ]
  },
  {
   "cell_type": "code",
   "execution_count": null,
   "metadata": {
    "collapsed": true
   },
   "outputs": [],
   "source": []
  },
  {
   "cell_type": "markdown",
   "metadata": {},
   "source": [
    "---\n",
    "### Part 2: More Complex Objects and Operator Overloading\n",
    "\n",
    "Below I've defined a more complex object than the one above; take some time to read and understand it. What are its attributes and methods?"
   ]
  },
  {
   "cell_type": "code",
   "execution_count": 12,
   "metadata": {
    "collapsed": true
   },
   "outputs": [],
   "source": [
    "from math import pi\n",
    "class Planet(object):\n",
    "    'A class defining the attributes of a planet.'\n",
    "    \n",
    "    G = 6.67e-11 #Newton's constant in SI units\n",
    "    \n",
    "    def __init__(self,name, order, mass,radius, moons=[]):\n",
    "        '''\n",
    "        Initialize the planet object.\n",
    "        name: str, the name of the planet\n",
    "        order: int, the planet's order in distance from the sun. \n",
    "        mass: float, The mass of the planet (in kg)\n",
    "        radius: float, radius of the planet (in m)\n",
    "        moons: list, a list of the names of the planet's moons. Default is an empty list. \n",
    "        '''\n",
    "        self.name = name\n",
    "        self.order = order\n",
    "        self.mass = mass\n",
    "        self.radius = radius\n",
    "        self.moons=moons\n",
    "        \n",
    "        volume = 4/3*pi*self.radius**3#volume is not stored\n",
    "        self._density = self.mass/volume\n",
    "        \n",
    "    def __cmp__(self, other):\n",
    "        '''\n",
    "        Define comparison between planets. Defined as the planet closer to the sun is \"less\"\n",
    "        \n",
    "        other: Another Planet object\n",
    "        \n",
    "        return: the difference of self and other's orders. \n",
    "        '''\n",
    "        return self.order-other.order\n",
    "    \n",
    "    def __str__(self):\n",
    "        '''\n",
    "        Define the string casting to be the planet's name. \n",
    "        \n",
    "        return: Str, the planet's name\n",
    "        '''\n",
    "        return self.name\n",
    "\n",
    "    def num_moons(self):\n",
    "        '''\n",
    "        Return the number of moons the planet has\n",
    "        \n",
    "        return: Int, the number of moons\n",
    "        '''\n",
    "        return len(self.moons)\n",
    "    \n",
    "    def gravity(self, r):\n",
    "        '''\n",
    "        Calculate the acceleration due to gravity of the planet at a distance r.\n",
    "        r: float, the distance from the planet's center to calculate the force of gravity.\n",
    "        \n",
    "        return: float, the strength of gravity in m/s^2\n",
    "        '''\n",
    "        return self.G*self.mass/(r*r)\n",
    "    \n",
    "    def surface_gravity(self):\n",
    "        '''\n",
    "        Calculate the acceleration due to gravity on the planet's surface. \n",
    "        \n",
    "        return: float, the surface gravity in m/s^2\n",
    "        '''\n",
    "        return self.gravity(self.radius)"
   ]
  },
  {
   "cell_type": "markdown",
   "metadata": {},
   "source": [
    "This object has quite a bit more instances and methods. Some of which are easier to understand, like we used above. "
   ]
  },
  {
   "cell_type": "code",
   "execution_count": 13,
   "metadata": {},
   "outputs": [
    {
     "name": "stdout",
     "output_type": "stream",
     "text": [
      "1\n",
      "6.67e-11\n",
      "9.81364678737\n",
      "3.983324\n"
     ]
    }
   ],
   "source": [
    "earth = Planet('Earth', 3, 5.972e24, 6.371e6, moons=['Luna'])\n",
    "print(earth.num_moons() )\n",
    "print(earth.G)\n",
    "print(earth.surface_gravity())\n",
    "print(earth.gravity(1e7))"
   ]
  },
  {
   "cell_type": "markdown",
   "metadata": {},
   "source": [
    "Most of that we've seen above, but what is `G`?. `G` is an example of a class variable; instead of being attached to an individual object it is attached to the class. \n",
    "\n",
    "All instances carry the same value of `G`. Note that if one instances class variable is modified, it does not change the other instances. And if we change it for the class, they do for new objects and those which have not already been changed! . It can be tough to keep track of, so it's not reccomended to modify these. "
   ]
  },
  {
   "cell_type": "code",
   "execution_count": 14,
   "metadata": {},
   "outputs": [
    {
     "name": "stdout",
     "output_type": "stream",
     "text": [
      "6.67e-11 6.67e-11 6.67e-11\n",
      "1 6.67e-11 6.67e-11\n",
      "1 0 0\n",
      "0 0 0\n"
     ]
    }
   ],
   "source": [
    "mars = Planet('Mars', 4, 6.39e23, 3.39e6, moons=['Phobos', 'Deimos'] )\n",
    "print(mars.G, earth.G, Planet.G)\n",
    "mars.G = 1 #change for instance\n",
    "print(mars.G, earth.G, Planet.G)\n",
    "\n",
    "Planet.G = 0\n",
    "print(mars.G, earth.G, Planet.G)\n",
    "\n",
    "mars = Planet('Mars', 4, 6.39e23, 3.39e6, moons=['Phobos', 'Deimos'] )\n",
    "print(mars.G, earth.G, Planet.G)"
   ]
  },
  {
   "cell_type": "code",
   "execution_count": 15,
   "metadata": {},
   "outputs": [
    {
     "name": "stdout",
     "output_type": "stream",
     "text": [
      "6.67e-11 6.67e-11 6.67e-11\n"
     ]
    }
   ],
   "source": [
    "#fix things. \n",
    "Planet.G=6.67e-11\n",
    "mars = Planet('Mars', 4, 6.39e23, 3.39e6, moons=['Phobos', 'Deimos'] )\n",
    "earth = Planet('Earth', 3, 5.972e24, 6.371e6, moons=['Luna'])\n",
    "print(mars.G, earth.G, Planet.G)"
   ]
  },
  {
   "cell_type": "markdown",
   "metadata": {},
   "source": [
    "Also notice that \n",
    "* The variable `volume` is not stored as an instance variable, so it can't be accessed. \n",
    "* The variable `_density` has one underscore. The one underscore symbolizes that the object should be treated as \"private\", but that is not enforced. If it had been named `__density`, the behavior would've been different. If you're interested in the way python sort of does private variables, read about [name mangling](https://en.wikipedia.org/wiki/Name_mangling#Python). \n",
    "* The method `surface_gravity` makes use of the instance method `gravity`; in fact it's a special case of that broader function. \n",
    "\n",
    "There is an elephant in the room, though. What about the `__*__` methods? That is the syntax for python's \"special\" or \"magic\" methods. They have defined behavior, and they can be used in your own objects. Let's take a look at how these methods work:"
   ]
  },
  {
   "cell_type": "code",
   "execution_count": null,
   "metadata": {},
   "outputs": [],
   "source": [
    "print(str(earth), str(mars))# call __str__\n",
    "\n",
    "print(earth.__str__(), mars.__str__())"
   ]
  },
  {
   "cell_type": "code",
   "execution_count": 16,
   "metadata": {},
   "outputs": [
    {
     "name": "stdout",
     "output_type": "stream",
     "text": [
      "False\n",
      "False\n"
     ]
    }
   ],
   "source": [
    "print(earth > mars) # call __cmp__\n",
    "print(earth.__cmp__(mars) > 0)"
   ]
  },
  {
   "cell_type": "markdown",
   "metadata": {},
   "source": [
    "What do we see here? These built-in functions and operations actually just call these \"magic\" methods!\n",
    "\n",
    "So overloading those operations allows you to define how those objects work with operations like these. This is operator overloading. You should skim all the ones that are available [here](https://docs.python.org/2/reference/datamodel.html)\n",
    "\n",
    "---\n",
    "### Aside\n",
    "\n",
    "This \"operator overloading\" is not just for user-defined objects. It is used in major third party packages and is essential to python itself. Take, for example, numpy's exceptionally powerful array object."
   ]
  },
  {
   "cell_type": "code",
   "execution_count": 17,
   "metadata": {},
   "outputs": [
    {
     "name": "stdout",
     "output_type": "stream",
     "text": [
      "[0 1 2 3 4]\n",
      "[1 2 3 4 5]\n",
      "[10 11 12 13 14]\n",
      "[ True  True  True  True  True]\n",
      "[ 5  7  9 11 13]\n"
     ]
    }
   ],
   "source": [
    "import numpy as np\n",
    "x = np.array(range(5))\n",
    "print(x)\n",
    "print(x+1) #overload __add__\n",
    "x+=10 #overload __iadd__\n",
    "print(x)\n",
    "print(x>5) #overload __cmp__\n",
    "x = np.array(range(5))\n",
    "y = np.array(range(5,10))\n",
    "print(x+y) #overload __add__ with an alternative behavior"
   ]
  },
  {
   "cell_type": "markdown",
   "metadata": {},
   "source": [
    "What about these operations in python? Well this allows us to really peer under the hood of python."
   ]
  },
  {
   "cell_type": "code",
   "execution_count": 18,
   "metadata": {},
   "outputs": [
    {
     "name": "stdout",
     "output_type": "stream",
     "text": [
      "2\n",
      "10\n"
     ]
    }
   ],
   "source": [
    "x = 1\n",
    "y= x.__add__(1)\n",
    "print(y)\n",
    "z = range(10)\n",
    "print(z.__len__())"
   ]
  },
  {
   "cell_type": "markdown",
   "metadata": {},
   "source": [
    "This is how python objects work too! In python, everything is an object, and the objects you create are not that different than the built-ins! \n",
    "\n",
    "---\n",
    "### Excercise 2\n",
    "#### Answers Below\n",
    "\n",
    "Define a new class Professor2. It should have all the same instance variables as Professor. However:\n",
    "* redefine the `__iadd__` magic method to add to `n_papers` the value on the right and return `self`\n",
    "* overload the `__nonzero__` method (similar to `bool`) to have the same functionality as `check_tenure`, but to return `self.tenure`\n",
    "\n",
    "Write it below, and then run the cell below (and make sure it works!). "
   ]
  },
  {
   "cell_type": "code",
   "execution_count": null,
   "metadata": {
    "collapsed": true
   },
   "outputs": [],
   "source": []
  },
  {
   "cell_type": "code",
   "execution_count": null,
   "metadata": {},
   "outputs": [],
   "source": [
    "prof = Professor2('Jim', 0)\n",
    "while not prof:\n",
    "    print(prof.n_papers)\n",
    "    prof+=1"
   ]
  },
  {
   "cell_type": "markdown",
   "metadata": {},
   "source": [
    "---\n",
    "### Part 3: Inheritance\n",
    "Inheritance is one of the most powerful features of Objects. It allows you to define *subclasses* of existing classes, expanding their existing features. Take a look at the two objects I've defined below that subclass `Planet`. "
   ]
  },
  {
   "cell_type": "code",
   "execution_count": 19,
   "metadata": {
    "collapsed": true
   },
   "outputs": [],
   "source": [
    "from random import random\n",
    "class RockyPlanet(Planet):\n",
    "    'A rocky planet!'\n",
    "    def __init__(self,name, order, mass,radius, moons=[]):\n",
    "        \n",
    "        super(RockyPlanet,self).__init__(name, order, mass, radius, moons)\n",
    "        self.elems = ['O', 'Si', 'Al', 'Fe']\n",
    "        self.habitable = random() > 0.7\n",
    "        \n",
    "    def check_habitable(self):\n",
    "        return self.habitable\n",
    "    \n",
    "class GasGiant(Planet):\n",
    "    'A gas giant planet'\n",
    "    def __init__(self, name, order,mass,radius, moons=[]):\n",
    "        super(GasGiant, self).__init__(name, order, mass, radius, moons)\n",
    "        self.elems = ['H', 'He']\n",
    "        \n",
    "    def __str__(self):\n",
    "        return 'Gas giant planet %s'%self.name"
   ]
  },
  {
   "cell_type": "markdown",
   "metadata": {},
   "source": [
    "Both of these objects have the same properties of of the planet object, but with new, different ones. Lets explore them. "
   ]
  },
  {
   "cell_type": "code",
   "execution_count": 20,
   "metadata": {},
   "outputs": [],
   "source": [
    "planetX = RockyPlanet('PlanetX', 10, 6e25, 20e6)\n",
    "jupiter = GasGiant('Jupiter',5, 1.89e27, 69e6,\\\n",
    "                   moons = ['Io', 'Europa', 'Ganymede', 'Callisto'])#sorry, not writing all 67\n"
   ]
  },
  {
   "cell_type": "code",
   "execution_count": 21,
   "metadata": {},
   "outputs": [
    {
     "name": "stdout",
     "output_type": "stream",
     "text": [
      "True True\n",
      "True False\n"
     ]
    }
   ],
   "source": [
    "print(isinstance(planetX, Planet), isinstance(planetX, RockyPlanet))\n",
    "print(isinstance(jupiter, Planet), isinstance(jupiter, RockyPlanet))"
   ]
  },
  {
   "cell_type": "markdown",
   "metadata": {},
   "source": [
    "Both are instances of `Planet`!"
   ]
  },
  {
   "cell_type": "code",
   "execution_count": 22,
   "metadata": {},
   "outputs": [
    {
     "name": "stdout",
     "output_type": "stream",
     "text": [
      "False\n"
     ]
    },
    {
     "ename": "AttributeError",
     "evalue": "'GasGiant' object has no attribute 'check_habitable'",
     "output_type": "error",
     "traceback": [
      "\u001b[0;31m---------------------------------------------------------------------------\u001b[0m",
      "\u001b[0;31mAttributeError\u001b[0m                            Traceback (most recent call last)",
      "\u001b[0;32m<ipython-input-22-d4b98045e7fe>\u001b[0m in \u001b[0;36m<module>\u001b[0;34m()\u001b[0m\n\u001b[1;32m      1\u001b[0m \u001b[0;32mprint\u001b[0m\u001b[0;34m(\u001b[0m\u001b[0mplanetX\u001b[0m\u001b[0;34m.\u001b[0m\u001b[0mcheck_habitable\u001b[0m\u001b[0;34m(\u001b[0m\u001b[0;34m)\u001b[0m\u001b[0;34m)\u001b[0m\u001b[0;34m\u001b[0m\u001b[0m\n\u001b[0;32m----> 2\u001b[0;31m \u001b[0;32mprint\u001b[0m\u001b[0;34m(\u001b[0m\u001b[0mjupiter\u001b[0m\u001b[0;34m.\u001b[0m\u001b[0mcheck_habitable\u001b[0m\u001b[0;34m(\u001b[0m\u001b[0;34m)\u001b[0m\u001b[0;34m)\u001b[0m\u001b[0;34m\u001b[0m\u001b[0m\n\u001b[0m",
      "\u001b[0;31mAttributeError\u001b[0m: 'GasGiant' object has no attribute 'check_habitable'"
     ]
    }
   ],
   "source": [
    "print(planetX.check_habitable())\n",
    "print(jupiter.check_habitable())"
   ]
  },
  {
   "cell_type": "markdown",
   "metadata": {},
   "source": [
    "Only instances of `RockyPlanet` have that method!"
   ]
  },
  {
   "cell_type": "code",
   "execution_count": null,
   "metadata": {},
   "outputs": [],
   "source": [
    "print(str(planetX))\n",
    "print(str(jupiter))"
   ]
  },
  {
   "cell_type": "code",
   "execution_count": 23,
   "metadata": {},
   "outputs": [
    {
     "name": "stdout",
     "output_type": "stream",
     "text": [
      "True\n",
      "['Earth', 'Mars', 'Gas giant planet Jupiter', 'PlanetX']\n"
     ]
    }
   ],
   "source": [
    "print(jupiter > earth) #can still compare to planets!\n",
    "planet_list = [jupiter, planetX, earth, mars]\n",
    "print([str(p) for p in sorted(planet_list)]) #can use this sort!"
   ]
  },
  {
   "cell_type": "markdown",
   "metadata": {},
   "source": [
    "`GasGiant` overloaded `Planet`'s `__str__` method, but `RockyPlanet` still has the one defined by `Planet`. \n",
    "\n",
    "All the methods from the superclass are *inherited* by the subclasses. The subclasses can define their own methods and instances, and overload the ones from the superclass too! \n",
    "\n",
    "Take a look at the syntax above. See how we declare the subclass. \n",
    "\n",
    "Also note the use of the `super` method. It allows a subclass to access a method in its superclass. It's most common use in to initialize the object, but it has other uses. \n",
    "\n",
    "Make sure to note that since everything in python is an object, we can subclass python built-ins too. "
   ]
  },
  {
   "cell_type": "code",
   "execution_count": 24,
   "metadata": {},
   "outputs": [
    {
     "name": "stdout",
     "output_type": "stream",
     "text": [
      "1\n",
      "Hi!\n"
     ]
    }
   ],
   "source": [
    "class myDict(dict):\n",
    "\n",
    "    def __init__(self,*args, **kwargs):\n",
    "        super(dict, self).__init__(*args, **kwargs)\n",
    "        self.my_instance_variable = 'Hi!'\n",
    "        \n",
    "x = myDict()\n",
    "x['key'] = 1\n",
    "print(x['key'])\n",
    "print(x.my_instance_variable)"
   ]
  },
  {
   "cell_type": "markdown",
   "metadata": {},
   "source": [
    "----\n",
    "### Excercise 3\n",
    "#### Answers Below\n",
    "Subclass your first `Professor` method with a new class, `EmeritusProfessor`. Make it so:\n",
    "* The `__init__` only calls for a name; it passes 100 to `n_papers` and `True` to `tenure`.\n",
    "* an instance variable `busy` that defaults to `False`. \n",
    "* overload its `__cmp__` method such that it asserts it is greater than all things compared to it! \n",
    "\n",
    "Also feel free to give it a method or two of your own choosing!"
   ]
  },
  {
   "cell_type": "code",
   "execution_count": null,
   "metadata": {
    "collapsed": true
   },
   "outputs": [],
   "source": []
  },
  {
   "cell_type": "code",
   "execution_count": null,
   "metadata": {
    "collapsed": true
   },
   "outputs": [],
   "source": [
    "emp = EmeritusProfessor('Alice')\n",
    "emp2 = EmeritusProfessor('Bob')\n",
    "print(emp>emp2) #these should both be true!\n",
    "print(emp2>emp)"
   ]
  },
  {
   "cell_type": "markdown",
   "metadata": {},
   "source": [
    "## Part 4: Advanced Topics"
   ]
  },
  {
   "cell_type": "markdown",
   "metadata": {},
   "source": [
    "We will not go over them in detail, but it is worth mentioning a few other things that may come up.\n",
    "\n",
    "##### 1 Multiple Inheritance\n",
    "\n",
    "It is possible for an object to have multiple superclases. This is where the power of the `super` method really shows. It allows you to control which super method is called, if there is a conflict.\n",
    "\n",
    "##### 2 Property\n",
    "\n",
    "What would happen if a user tried to set a planet's radius to a number below 0? What could you do about it? \n",
    "\n",
    "You could define getter and setter methods, but the user can still access them via the `.` syntax. Instead, you should use [property!](http://www.programiz.com/python-programming/property) Property allows you to implement advanced assignment and access of of your object's methods.\n",
    "\n",
    "##### 3 Metaclasses\n",
    "\n",
    "MetaClasses are a bit hard to understand, but there's a good primer [here](https://jakevdp.github.io/blog/2012/12/01/a-primer-on-python-metaclasses/). It contains the following quote:\n",
    "\n",
    "*Metaclasses are deeper magic than 99% of users should ever worry about. If you wonder whether you need them, you don’t (the people who actually need them know with certainty that they need them, and don’t need an explanation about why).\n",
    "– Tim Peters*\n",
    "\n",
    "If you're a programming nerd, give it a look. They arise from the fact that classes are themselves objects, which can be subclassed and modified. One common use of Metaclasses is...\n",
    "\n",
    "##### 4 Abstract Base Classes\n",
    "\n",
    "The idea of an abstract base class is unique to python. It is common to create a superclass the is not actually usable, as the user is intended to use the subclasses. The superclass just defines common shared functions, so as not to repeat code, and defines the structure for the subclasses. \n",
    "\n",
    "Python uses Metaclasses to enforce this strictly. A user cannot subclass the superclass if they don't properly subclass all the defined methods. Read more about it [here](https://docs.python.org/2/library/abc.html)"
   ]
  },
  {
   "cell_type": "markdown",
   "metadata": {},
   "source": [
    "## Answers"
   ]
  },
  {
   "cell_type": "code",
   "execution_count": null,
   "metadata": {
    "collapsed": true
   },
   "outputs": [],
   "source": [
    "#Excercise 1\n",
    "class Professor(object):\n",
    "    'A professor on a surprisngly easy tenure track.'\n",
    "    \n",
    "    def __init__(self,name, n_papers, tenure=False, group=[] ):\n",
    "        'Initialize the professor.'\n",
    "        self.name = name\n",
    "        self.n_papers = n_papers\n",
    "        self.tenure=tenure\n",
    "        self.group = group\n",
    "        \n",
    "    def write_paper(self):\n",
    "        self.n_papers+=1\n",
    "        \n",
    "    def check_tenure(self):\n",
    "        self.tenure = self.n_papers > 10"
   ]
  },
  {
   "cell_type": "code",
   "execution_count": null,
   "metadata": {},
   "outputs": [],
   "source": [
    "group = [Student('Jodie', 3.2), Student('Vince', 2.2, 'Computer Science')]\n",
    "prof = Professor('Jim', 0, group=group)\n",
    "#Academia, in a nutshell\n",
    "while not prof.tenure:\n",
    "    print(prof.n_papers)\n",
    "    prof.write_paper()\n",
    "    prof.check_tenure()"
   ]
  },
  {
   "cell_type": "code",
   "execution_count": null,
   "metadata": {
    "collapsed": true
   },
   "outputs": [],
   "source": [
    "#Excercise 2\n",
    "class Professor2(object):\n",
    "    'A professor on a surprisngly easy tenure track.'\n",
    "    \n",
    "    def __init__(self,name, n_papers, tenure=False,group=[]):\n",
    "        'Initialize the professor.'\n",
    "        self.name = name\n",
    "        self.n_papers = n_papers\n",
    "        self.tenure=tenure\n",
    "        self.group=group\n",
    "        \n",
    "    def __iadd__(self, other):\n",
    "        self.n_papers+=other\n",
    "        return self\n",
    "        \n",
    "    def __nonzero__(self):\n",
    "        self.tenure = self.n_papers > 10\n",
    "        return self.tenure"
   ]
  },
  {
   "cell_type": "code",
   "execution_count": null,
   "metadata": {},
   "outputs": [],
   "source": [
    "group = [Student('Jodie', 3.2), Student('Vince', 2.2, 'Computer Science')]\n",
    "prof = Professor2('Jim', 0, group=group)\n",
    "while not prof:\n",
    "    print(prof.n_papers)\n",
    "    prof+=1"
   ]
  },
  {
   "cell_type": "code",
   "execution_count": null,
   "metadata": {},
   "outputs": [],
   "source": [
    "#Excercise 3\n",
    "class EmeritusProfessor(Professor):\n",
    "    'A retired emeritus prof!'\n",
    "    \n",
    "    def __init__(self, name):\n",
    "        super(EmeritusProfessor, self).__init__(name, 100, True)\n",
    "        self.busy = False\n",
    "        \n",
    "    def __cmp__(self, other):\n",
    "        return 1"
   ]
  },
  {
   "cell_type": "code",
   "execution_count": null,
   "metadata": {},
   "outputs": [],
   "source": [
    "emp = EmeritusProfessor('Alice')\n",
    "emp2 = EmeritusProfessor('Bob')\n",
    "print(emp>emp2)\n",
    "print(emp2>emp)"
   ]
  },
  {
   "cell_type": "code",
   "execution_count": null,
   "metadata": {
    "collapsed": true
   },
   "outputs": [],
   "source": []
  }
 ],
 "metadata": {
  "kernelspec": {
   "display_name": "Python 3",
   "language": "python",
   "name": "python3"
  },
  "language_info": {
   "codemirror_mode": {
    "name": "ipython",
    "version": 3
   },
   "file_extension": ".py",
   "mimetype": "text/x-python",
   "name": "python",
   "nbconvert_exporter": "python",
   "pygments_lexer": "ipython3",
   "version": "3.7.6"
  }
 },
 "nbformat": 4,
 "nbformat_minor": 1
}
