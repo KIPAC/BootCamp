{
 "cells": [
  {
   "cell_type": "markdown",
   "id": "03dc5faa",
   "metadata": {},
   "source": [
    "# SciPy Stack introduction\n",
    "\n",
    "This is a condensed SciPy Stack introduction created initially for 2021 KIPAC summer research students. It borrows material from a number of other tutorials in [KIPAC computing boot camp](http://kipac.github.io/BootCamp), but is designed to be covered in a 90 minute bootcamp session. \n",
    "\n",
    "Authors: Sidney Mau and Jessie Muir, adapting content from noteboks by [Yao-Yuan Mao](http://yymao.github.io), [Sean McLaughlin](https://github.com/mclaughlin6464), [Joe DeRose](https://github.com/j-dr), [Mike Baumer](https://mbaumer.github.io)."
   ]
  },
  {
   "cell_type": "markdown",
   "id": "9fbe5e9d",
   "metadata": {},
   "source": [
    "### What is the SciPy Stack?\n",
    "\n",
    "The [SciPy Stack](https://scipy.org/index.html) is a set of Python software designed for scientific computing.\n",
    "Most scientific computing in Python heavily relies on SciPy Stack software, including\n",
    "- NumPy: numbers, vectors, arrays; implemented in C and Fortran so typically much faster than \"normal\" Python\n",
    "- pandas: data structures and tables (more accessible than \"raw\" NumPy arrays)\n",
    "- Matplotlib: plotting and visualization\n",
    "- SciPy: general functions for optimization, fitting, integration, signal processing, etc.\n",
    "\n",
    "Most scientific computing in Python uses these libraries, so it's important (1) to have some basic familiarity with them, and (2) to know how and where to look for more information on them.\n",
    "\n",
    "In this notebook, we'll try and distill some of basics of each of these packages and introduce you to how to *teach yourself* more.\n",
    "Each section will start with two links: (1) a more in-depth introductory tutorial for the software, and (2) the API reference for the software.\n",
    "We encourage you to look into those resources after you feel comfortable with the basics covered in this notebook."
   ]
  },
  {
   "cell_type": "markdown",
   "id": "f203ad96",
   "metadata": {},
   "source": [
    "Definition: API\n",
    "> An Application Programming Interface (API) is the primary interface between the user (i.e., you) and the code.\n",
    "> For our purposes, the API of a Python package is how you will call functions, initialize classes, and more generally *use* that package.\n",
    "> Understanding how to navigate the documentation of a package's API is a critical skill for learning how to use new software."
   ]
  },
  {
   "cell_type": "markdown",
   "id": "45fc85aa",
   "metadata": {},
   "source": [
    "## NumPy\n",
    "\n",
    "[NumPy quickstart](https://numpy.org/devdocs/user/quickstart.html)\n",
    "\n",
    "[NumPy Reference](https://numpy.org/devdocs/reference/index.html)"
   ]
  },
  {
   "cell_type": "code",
   "execution_count": null,
   "id": "b9a4572a",
   "metadata": {},
   "outputs": [],
   "source": [
    "# First, we need to import numpy, which is typically imported as \"np\" to reduce verbosity\n",
    "import numpy as np"
   ]
  },
  {
   "cell_type": "markdown",
   "id": "f0d823aa",
   "metadata": {},
   "source": [
    "### Arrays"
   ]
  },
  {
   "cell_type": "markdown",
   "id": "be7879e2",
   "metadata": {},
   "source": [
    "One of the fundamental objects in NumPy is the `ndarray`, or N-dimensional array ([documentation](https://numpy.org/devdocs/reference/arrays.ndarray.html)).\n",
    "\n",
    "These objects cover most of the mathematical constructs we use in physics:\n",
    "- scalar: 0-dimensional array\n",
    "- vector: 1-dimensional array\n",
    "- matrix: 2-dimensional array\n",
    "- and so on...\n",
    "\n",
    "Most coding in NumPy involves manipulating `ndarray`s (whether you're storing data in an array, trying to find the mean, doing linear algebra computations, they all involve `ndarray`s).\n",
    "We'll start by making a few."
   ]
  },
  {
   "cell_type": "code",
   "execution_count": null,
   "id": "8a842a34",
   "metadata": {},
   "outputs": [],
   "source": [
    "# First, a scalar array which holds the value 2.\n",
    "sca = np.array(2)\n",
    "\n",
    "# Second, a vector array, which holds the vector [1,0,0] (i.e., unit vector in the x-direction).\n",
    "vec = np.array([1,0,0])\n",
    "\n",
    "# Third, a matrix array, which holds the matrix [[1,0,0],[0,1,0],[0,0,1]] (i.e., a 3-dimensional identity matrix)\n",
    "mat = np.array([[1,0,0],[0,1,0],[0,0,1]])\n",
    "\n",
    "# Let's print them all out. The \"\\n\" is a \"newline\" character so that the spacing is nice\n",
    "print(f\"scalar:\\n{sca}\\n\")\n",
    "print(f\"vector:\\n{vec}\\n\")\n",
    "print(f\"matrix:\\n{mat}\")"
   ]
  },
  {
   "cell_type": "code",
   "execution_count": null,
   "id": "0d6aed6e",
   "metadata": {},
   "outputs": [],
   "source": [
    "# We can \"ask\" each of these objects about themselves:\n",
    "print(f\"scalar:\\n    ndim:{sca.ndim}\\n    shape:{sca.shape}\\n\")\n",
    "print(f\"vector:\\n    ndim:{vec.ndim}\\n    shape:{vec.shape}\\n\")\n",
    "print(f\"matrix:\\n    ndim:{mat.ndim}\\n    shape:{mat.shape}\\n\")"
   ]
  },
  {
   "cell_type": "markdown",
   "id": "0306cd40",
   "metadata": {},
   "source": [
    "Tip: if you want to know what you can do, there are a few options\n",
    "- Check the API reference: https://numpy.org/devdocs/reference/arrays.ndarray.html\n",
    "- Use the `help()` function to access the documentation within Python\n",
    "- Use the `dir()` function to see what else you can \"ask\" the function about itself"
   ]
  },
  {
   "cell_type": "code",
   "execution_count": null,
   "id": "2bc0da8a",
   "metadata": {},
   "outputs": [],
   "source": [
    "# You can use help on `np.array` or any instance of `np.array` (e.g., our `sca`, `vec`, and `mat`)\n",
    "#help(np.array)\n",
    "help(mat)"
   ]
  },
  {
   "cell_type": "code",
   "execution_count": null,
   "id": "3c35c828",
   "metadata": {},
   "outputs": [],
   "source": [
    "# You'll see that `ndim` and `shape` are both listed in here.\n",
    "# Generally, variables between double underscores (__) are for\n",
    "# \"internal\" processing and you usually won't need or want to access these\n",
    "# Don't worry if a lot of these terms are arcane right now—you will learn\n",
    "# them in time, or you may never even need them!\n",
    "dir(mat)"
   ]
  },
  {
   "cell_type": "markdown",
   "id": "e91f0c25",
   "metadata": {},
   "source": [
    "Hopefully this give you an idea of why NumPy is *so* useful for physics and scientific computing.\n",
    "Pretty much everything we do in Physics involves scalars, vectors, matrices, and tensors—things which NumPy does well and *fast*.\n",
    "\n",
    "This also highlights an ideological difference between physics and programming:\n",
    "- in physics, we are often taught that vectors are objects with a magnitude and direction (i.e., an arrow in space)\n",
    "- in programming, vectors are lists of numbers (you might note that this is a vector with some choice of basis)\n",
    "\n",
    "As long as you keep your bases straight (so let's imagine we're always working with Cartesian x, y, z coordinates), NumPy has a number of functions that make linear algebra really easy for us."
   ]
  },
  {
   "cell_type": "code",
   "execution_count": null,
   "id": "a04bfec9",
   "metadata": {},
   "outputs": [],
   "source": [
    "# Let's multiply `sca` and `vec`—we're scaling a vector by a constant\n",
    "print(sca*vec)"
   ]
  },
  {
   "cell_type": "code",
   "execution_count": null,
   "id": "4cc1d7a3",
   "metadata": {},
   "outputs": [],
   "source": [
    "# What about multiply `mat` and `vec` (multiply a matrix and a column vector)\n",
    "# Note that this should give us a matrix\n",
    "print(mat*vec)"
   ]
  },
  {
   "cell_type": "code",
   "execution_count": null,
   "id": "9a90faca",
   "metadata": {},
   "outputs": [],
   "source": [
    "# And if we want to scale this by a scalar...\n",
    "print(sca*mat*vec)"
   ]
  },
  {
   "cell_type": "markdown",
   "id": "9e2e7eea",
   "metadata": {},
   "source": [
    "### Selections"
   ]
  },
  {
   "cell_type": "markdown",
   "id": "54768e27",
   "metadata": {},
   "source": [
    "One of the most useful things you can do in NumPy is to make selections of your data.\n",
    "There are two primary ideas here:\n",
    "1. Selecting by position in an array (e.g., the first 5 elements, or the last 3 elements, or evey fourth element, etc.).\n",
    "2. Selecting according to some \"filter\" (e.g., every element which meets some condition)."
   ]
  },
  {
   "cell_type": "code",
   "execution_count": null,
   "id": "b0029d08",
   "metadata": {},
   "outputs": [],
   "source": [
    "# First, we'll make a list of 11 evenly spaced numbers from 0 to 1:\n",
    "xs = np.linspace(0, 10, 11)\n",
    "print(xs)"
   ]
  },
  {
   "cell_type": "code",
   "execution_count": null,
   "id": "1604c93c",
   "metadata": {},
   "outputs": [],
   "source": [
    "# We can grab specific elements or slices:\n",
    "print(f\"Zeroth element of `xs`: {xs[0]}\")\n",
    "print(f\"Last two elements of `xs`: {xs[-2:]}\")\n",
    "print(f\"Every third element of `xs`: {xs[::3]}\")"
   ]
  },
  {
   "cell_type": "code",
   "execution_count": null,
   "id": "ec21695c",
   "metadata": {},
   "outputs": [],
   "source": [
    "# We can find every element exactly equal to 1...\n",
    "print(xs == 1)\n",
    "# and we can use this list to pick out elements:\n",
    "print(xs[xs==1])"
   ]
  },
  {
   "cell_type": "code",
   "execution_count": null,
   "id": "12549e6b",
   "metadata": {},
   "outputs": [],
   "source": [
    "# Maybe we want every element which is even:\n",
    "print(xs % 2 == 0) # % is the modulus operator\n",
    "print(xs[xs%2==0])"
   ]
  },
  {
   "cell_type": "markdown",
   "id": "8a482f01",
   "metadata": {},
   "source": [
    "While this may feel a bit obvious, it's this exact functionality which will allow us to extract particular features from more complex higher-dimensional data later on!"
   ]
  },
  {
   "cell_type": "markdown",
   "id": "fb96ddb2",
   "metadata": {},
   "source": [
    "### Mathematical Functions"
   ]
  },
  {
   "cell_type": "markdown",
   "id": "22f81930",
   "metadata": {},
   "source": [
    "Finally, NumPy has *lots* of [mathematical functions](https://numpy.org/devdocs/reference/routines.math.html).\n",
    "If you need a mathematical function that's not in NumPy, it's probably either (1) in SciPy, or (2) relatively straightforward to implement *using NumPy functions*."
   ]
  },
  {
   "cell_type": "markdown",
   "id": "15ff6931",
   "metadata": {},
   "source": [
    "## pandas\n",
    "\n",
    "[10 minutes to pandas](https://pandas.pydata.org/docs/user_guide/10min.html)\n",
    "\n",
    "[API reference](https://pandas.pydata.org/docs/reference/index.html)"
   ]
  },
  {
   "cell_type": "code",
   "execution_count": null,
   "id": "daab2b7b",
   "metadata": {},
   "outputs": [],
   "source": [
    "# First, we need to import pandas, which is typically imported as \"pd\" to reduce verbosity\n",
    "import pandas as pd"
   ]
  },
  {
   "cell_type": "markdown",
   "id": "537f8e11",
   "metadata": {},
   "source": [
    "NumPy is very fast and powerful, but it's not always the *easiest* tool, especially if you have data that is organized in something like a `.csv` file or spreadsheet.\n",
    "In this case, pandas is the standard in Python."
   ]
  },
  {
   "cell_type": "markdown",
   "id": "7e05c0ad",
   "metadata": {},
   "source": [
    "Now, we're going to load in some data into this Notebook using pandas.\n",
    "We're going to grab the [iris](https://en.wikipedia.org/wiki/Iris_flower_data_set), which the seaborn plotting library has hosted on GitHub."
   ]
  },
  {
   "cell_type": "code",
   "execution_count": null,
   "id": "9d34f8ac",
   "metadata": {},
   "outputs": [],
   "source": [
    "# We load in a `.csv` file through pandas\n",
    "iris = pd.read_csv('https://raw.githubusercontent.com/mwaskom/seaborn-data/master/iris.csv')"
   ]
  },
  {
   "cell_type": "code",
   "execution_count": null,
   "id": "b1eea84a",
   "metadata": {},
   "outputs": [],
   "source": [
    "# iris is a pandas DataFrame\n",
    "# Notice that DataFrames have a nice visual representation in notebooks\n",
    "iris"
   ]
  },
  {
   "cell_type": "code",
   "execution_count": null,
   "id": "bcbcc036",
   "metadata": {},
   "outputs": [],
   "source": [
    "# If you just want to know the column names, you can get these with `.columns`:\n",
    "iris.columns"
   ]
  },
  {
   "cell_type": "code",
   "execution_count": null,
   "id": "8c6d57d4",
   "metadata": {},
   "outputs": [],
   "source": [
    "# We can access any of these from the dataframe in a few ways:\n",
    "print(f\"You can use brackets:\\n{iris['sepal_length']}\\n\")\n",
    "print(f\"You can also use attribute syntax:\\n{iris.sepal_length}\")"
   ]
  },
  {
   "cell_type": "code",
   "execution_count": null,
   "id": "db615e2c",
   "metadata": {},
   "outputs": [],
   "source": [
    "# You can also get a NumPy array out of your pandas DataFrame:\n",
    "iris.to_numpy()"
   ]
  },
  {
   "cell_type": "code",
   "execution_count": null,
   "id": "ef78331f",
   "metadata": {},
   "outputs": [],
   "source": [
    "# You can sort your data\n",
    "iris.sort_values(by='sepal_length')"
   ]
  },
  {
   "cell_type": "code",
   "execution_count": null,
   "id": "4c265eb1",
   "metadata": {},
   "outputs": [],
   "source": [
    "# You can grab a subset of your data\n",
    "iris[iris['species'] == 'setosa']"
   ]
  },
  {
   "cell_type": "code",
   "execution_count": null,
   "id": "8bcae522",
   "metadata": {},
   "outputs": [],
   "source": [
    "# Or you can use a filter!\n",
    "iris[iris['sepal_length'] < 5]"
   ]
  },
  {
   "cell_type": "code",
   "execution_count": null,
   "id": "ac8b0b12",
   "metadata": {},
   "outputs": [],
   "source": [
    "# The mean and median are easy to get\n",
    "print(f\"Sepal length mean: {iris['sepal_length'].mean()}\")\n",
    "print(f\"Sepal length median: {iris['sepal_length'].median()}\")"
   ]
  },
  {
   "cell_type": "code",
   "execution_count": null,
   "id": "2abd6b34",
   "metadata": {},
   "outputs": [],
   "source": [
    "# You can also pass the data from pandas into NumPy:\n",
    "print(f\"Sepal length mean: {np.mean(iris['sepal_length'])}\")\n",
    "print(f\"Sepal length median: {np.median(iris['sepal_length'])}\")"
   ]
  },
  {
   "cell_type": "markdown",
   "id": "11e7f741",
   "metadata": {},
   "source": [
    "## Matplotlib\n",
    "\n",
    "[Pyplot tyutorial](https://matplotlib.org/stable/tutorials/introductory/pyplot.html)\n",
    "\n",
    "[API Overivew](https://matplotlib.org/stable/api/_as_gen/matplotlib.pyplot.html)"
   ]
  },
  {
   "cell_type": "code",
   "execution_count": null,
   "id": "753cb99b",
   "metadata": {},
   "outputs": [],
   "source": [
    "# First, we need to import Matplotlib; usually only the pyplot interface is imported as \"plt\"\n",
    "import matplotlib.pyplot as plt\n",
    "# We use the following \"magic\" command to allow plots to display directly in this notebook\n",
    "%matplotlib inline"
   ]
  },
  {
   "cell_type": "markdown",
   "id": "2396d971",
   "metadata": {},
   "source": [
    "Matplotlib is the standard plotting interface in Python.\n",
    "It's defaults are not always the prettiest, but it is highly configurable.\n",
    "A relatively new plotting library is [seaborn](https://seaborn.pydata.org/), which builds on top of Matplotlib to provide a higher level interface that produces more visually pleasing results."
   ]
  },
  {
   "cell_type": "code",
   "execution_count": null,
   "id": "a18b92ed",
   "metadata": {},
   "outputs": [],
   "source": [
    "# We'll import seaborn as well; you usually see it imported as \"sns\"\n",
    "import seaborn as sns"
   ]
  },
  {
   "cell_type": "code",
   "execution_count": null,
   "id": "66045116",
   "metadata": {},
   "outputs": [],
   "source": [
    "# Let's first plot some histograms (plots that show how often different values occur for some data)\n",
    "plt.hist(iris['sepal_length'])\n",
    "plt.xlabel('sepal_length')\n",
    "plt.ylabel('N')"
   ]
  },
  {
   "cell_type": "code",
   "execution_count": null,
   "id": "5580fe36",
   "metadata": {},
   "outputs": [],
   "source": [
    "fig, axs = plt.subplots(1, 2, figsize=(18,6))\n",
    "\n",
    "axs[0].hist(iris['sepal_length'])\n",
    "axs[0].set_xlabel('sepal_length')\n",
    "\n",
    "axs[1].hist(iris['sepal_width'])\n",
    "axs[1].set_xlabel('sepal_width')"
   ]
  },
  {
   "cell_type": "code",
   "execution_count": null,
   "id": "19e36505",
   "metadata": {},
   "outputs": [],
   "source": [
    "# Or, using seaborn...\n",
    "sns.jointplot(data=iris, x=\"sepal_length\", y=\"sepal_width\", hue=\"species\")"
   ]
  },
  {
   "cell_type": "code",
   "execution_count": null,
   "id": "542180c5",
   "metadata": {},
   "outputs": [],
   "source": [
    "# If you want to see all of the correlations between the variables in your data\n",
    "sns.pairplot(data=iris, hue='species')"
   ]
  },
  {
   "cell_type": "markdown",
   "id": "aa47fbc9",
   "metadata": {},
   "source": [
    "Hopefully this gives you a sense for how useful tools like pandas as seaborn can be for exploring and investigating data.\n",
    "This now leads us to..."
   ]
  },
  {
   "cell_type": "markdown",
   "id": "d16777da",
   "metadata": {},
   "source": [
    "## <span style=\"color:green\">Practice!</span>\n",
    "\n",
    "We've covered some basics in NumPy, pandas, and Matplotlib/seaborn.\n",
    "Now, let's try and apply them in practice to do a basic analysis.\n",
    "\n",
    "First, we're going to use seaborn to load in a different dataset—this one has data about penguins!"
   ]
  },
  {
   "cell_type": "code",
   "execution_count": null,
   "id": "38aabfff",
   "metadata": {},
   "outputs": [],
   "source": [
    "penguins = sns.load_dataset(\"penguins\") # this loads the data into a pandas DataFrame\n",
    "penguins.head() # lets look at the first few entries"
   ]
  },
  {
   "cell_type": "markdown",
   "id": "5204ccdc",
   "metadata": {},
   "source": [
    "Here are your objectives:\n",
    "1. Make some visualizations of this data. This can be similar to the plots we showed above, or anything else that you think may be useful. Remember the [matplotlib.pyplot](https://matplotlib.org/stable/api/_as_gen/matplotlib.pyplot.html) and [seaborn](https://seaborn.pydata.org/api.html) APIs are useful references to learn what you can do.\n",
    "2. Try to identify which variables can be used (either independently or together) to separate the penguins by species (not including, of course, the `species` column itself!). Don't worry about a \"correct\" or even optimal solution here. We want you to focus on using the data to extract information that you may not necessarily have (imagine this is your \"training\" data and you want to be able to determine the species of any new penguin you see using the other available information).\n",
    "3. Using those variables, or maybe some function of those variables, try to separate the penguins by species.\n",
    "4. What's *more important than being correct* is understanding *how well you did*. That is, how many penguins are misclassified? Is it a lot of them or a small number? Again, being able to answer this question is *more important* than if you succesfully classified each penguin."
   ]
  },
  {
   "cell_type": "markdown",
   "id": "0218565c",
   "metadata": {},
   "source": [
    "### 1. Visualizations"
   ]
  },
  {
   "cell_type": "code",
   "execution_count": null,
   "id": "a0f0f691",
   "metadata": {},
   "outputs": [],
   "source": []
  },
  {
   "cell_type": "markdown",
   "id": "64215e20",
   "metadata": {},
   "source": [
    "### 2. Discriminant Variables"
   ]
  },
  {
   "cell_type": "code",
   "execution_count": null,
   "id": "52df8a58",
   "metadata": {},
   "outputs": [],
   "source": []
  },
  {
   "cell_type": "markdown",
   "id": "404022de",
   "metadata": {},
   "source": [
    "### 3. Classification"
   ]
  },
  {
   "cell_type": "code",
   "execution_count": null,
   "id": "fe3c554d",
   "metadata": {},
   "outputs": [],
   "source": []
  },
  {
   "cell_type": "markdown",
   "id": "fdf9c59c",
   "metadata": {},
   "source": [
    "### 4. Performance"
   ]
  },
  {
   "cell_type": "code",
   "execution_count": null,
   "id": "e96d57ec",
   "metadata": {},
   "outputs": [],
   "source": []
  },
  {
   "cell_type": "markdown",
   "id": "3f21e3d6",
   "metadata": {},
   "source": [
    "## SciPy\n",
    "\n",
    "[Introduction](https://docs.scipy.org/doc/scipy/tutorial/general.html)\n",
    "\n",
    "[SciPy API](https://docs.scipy.org/doc/scipy/reference/index.html)"
   ]
  },
  {
   "cell_type": "markdown",
   "id": "debeb5dc",
   "metadata": {},
   "source": [
    "You typically will use SciPy for more specialized functions or in specific contexts, so we won't go into it at any depth here.\n",
    "We encourage you to take a look at the general introduction and to skim through the modules and functions available through the API."
   ]
  },
  {
   "cell_type": "markdown",
   "id": "ec68f5f3",
   "metadata": {},
   "source": [
    "# Other Useful Libraries"
   ]
  },
  {
   "cell_type": "markdown",
   "id": "a865b525",
   "metadata": {},
   "source": [
    "While the SciPy Stack is generally useful for anyone doing scientific computing, it does not cover every use case.\n",
    "Below are listed a few other common libraries that are useful to at least be aware of."
   ]
  },
  {
   "cell_type": "markdown",
   "id": "bbadf214",
   "metadata": {},
   "source": [
    "## Astrophysics Libraries\n",
    "\n",
    "### Astropy\n",
    "\n",
    "General purpose astrophysics routines\n",
    "\n",
    "[Tutorials](https://learn.astropy.org/tutorials.html)\n",
    "\n",
    "[Documentation](https://docs.astropy.org/en/stable/)\n",
    "\n",
    "### Healpy\n",
    "\n",
    "Working with healpixels\n",
    "\n",
    "[healpy tutorial](https://healpy.readthedocs.io/en/latest/tutorial.html)\n",
    "\n",
    "[Documentation](https://healpy.readthedocs.io/en/latest/)"
   ]
  },
  {
   "cell_type": "markdown",
   "id": "4781bc71",
   "metadata": {},
   "source": [
    "## Machine Learning Libraries\n",
    "\n",
    "### scikit-learn\n",
    "\n",
    "Straightforward library for machine learning including classifying, regression, clustering, dimensionality reduction, model selection, and preprocessing.\n",
    "\n",
    "[Getting Started](https://scikit-learn.org/stable/getting_started.html)\n",
    "\n",
    "[API Reference](https://scikit-learn.org/stable/modules/classes.html)\n",
    "\n",
    "### TensorFlow\n",
    "\n",
    "Tensor algebra and machine learning library, including the Keras API.\n",
    "\n",
    "[Quickstart](https://www.tensorflow.org/tutorials/quickstart/beginner)\n",
    "\n",
    "[API](https://www.tensorflow.org/api_docs/python/tf)\n",
    "\n",
    "### PyTorch\n",
    "\n",
    "Another machine learning framework.\n",
    "\n",
    "[Learn the Basics](https://pytorch.org/tutorials/beginner/basics/intro.html)\n",
    "\n",
    "[Documentation](https://pytorch.org/docs/stable/index.html)"
   ]
  },
  {
   "cell_type": "code",
   "execution_count": null,
   "id": "0b61293e",
   "metadata": {},
   "outputs": [],
   "source": []
  }
 ],
 "metadata": {
  "kernelspec": {
   "display_name": "Python 3",
   "language": "python",
   "name": "python3"
  },
  "language_info": {
   "codemirror_mode": {
    "name": "ipython",
    "version": 3
   },
   "file_extension": ".py",
   "mimetype": "text/x-python",
   "name": "python",
   "nbconvert_exporter": "python",
   "pygments_lexer": "ipython3",
   "version": "3.9.5"
  }
 },
 "nbformat": 4,
 "nbformat_minor": 5
}
