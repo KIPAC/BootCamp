{
 "cells": [
  {
   "cell_type": "markdown",
   "metadata": {},
   "source": [
    "# Unlocking the power of numpy\n",
    "\n",
    "\"Fast and versatile, the NumPy vectorization, indexing, and broadcasting concepts are the de-facto standards of array computing today.\"\n",
    "\n",
    "\"NumPy’s high level syntax makes it accessible and productive for programmers from any background or experience level.\"\n",
    "\n"
   ]
  },
  {
   "cell_type": "markdown",
   "metadata": {},
   "source": [
    "### Ok, lets get started\n",
    "\n",
    "I'm going to assume a bit of familiarity with numpy; specifically that you have used arrays, and figured out some of their properties, but don't really have a deep grasp of the underlying principles."
   ]
  },
  {
   "cell_type": "code",
   "execution_count": null,
   "metadata": {},
   "outputs": [],
   "source": [
    "import numpy as np"
   ]
  },
  {
   "cell_type": "markdown",
   "metadata": {},
   "source": [
    "## Vectorization\n",
    "\n",
    "\"Vectorization\" refers setting computations so that they can operate in parallel on many elements of a large array.\n",
    "This allows many speedups both in interpreting / compilling the code, as well as in exectuting it. \n",
    "\n",
    "To demonstrate, here is a loop that someone new to python might write, if asked to generate an array that contains the cumulative sum of the first N integers.\n",
    "\n",
    "We are going to use the notebook built-in \"magic\" command \"%timeit\" to run and time several iterations of each version of the function."
   ]
  },
  {
   "cell_type": "code",
   "execution_count": null,
   "metadata": {},
   "outputs": [],
   "source": [
    "def cumul_sum(N):\n",
    "    out_vals = []\n",
    "    running_sum = 0\n",
    "    for i in range(N):\n",
    "        running_sum += i\n",
    "        out_vals.append(running_sum)\n",
    "    return np.array(out_vals)"
   ]
  },
  {
   "cell_type": "code",
   "execution_count": null,
   "metadata": {},
   "outputs": [],
   "source": [
    "N = 100000\n",
    "print(\"Version 1, using the function above with the loop\")\n",
    "%timeit v = cumul_sum(N)\n",
    "print(\"Version 2, using a numpy function to do the cumulative sum\")\n",
    "a = np.arange(N)\n",
    "%timeit v = np.cumsum(a)"
   ]
  },
  {
   "cell_type": "markdown",
   "metadata": {},
   "source": [
    "So, for that particular case the \"vectorized\" version is about 10x faster.  "
   ]
  },
  {
   "cell_type": "markdown",
   "metadata": {},
   "source": [
    "### Your intuition about processing time is probably wrong.\n",
    "\n",
    "I have been repeatedly surprised by the relative amount of time that it take to do things different ways in python.\n",
    "Some things that I thought would be very slow and actually reasonable quick, some things that seem like they should relatively quick are actually very slow.  \n",
    "\n",
    "Pretty much the only constants seem to be:\n",
    "  1. If you use the right numpy function it will be quick\n",
    "  2. If you do anything else it will be slower, possibly much slower\n",
    "  \n",
    "To illustrate this sort of variation I wrote several version of functions to do 4 simple operarions:\n",
    "  1. Summing all the integers up to N\n",
    "  2. Filling an array with the cumulative sum of all the integers up to N\n",
    "  3. Filling an array with the squares of all the integers up to N\n",
    "  4. Matrix multiplication"
   ]
  },
  {
   "cell_type": "code",
   "execution_count": null,
   "metadata": {},
   "outputs": [],
   "source": [
    "from xipe import funcs_to_profile"
   ]
  },
  {
   "cell_type": "markdown",
   "metadata": {},
   "source": [
    "It was interesting to see some discussion of the #software-dev channel about the effect of the loop-ordering in the matrix-multiplication. \n",
    "\n",
    "Loop ordering was a big deal to people my age when we were writing FORTRAN, c and c++ code back in grad school. \n",
    "Although loop-ordering does have an effect at the 10-50% level, simply using loops at all, instead of the built-in numpy functions _has already slowed the code down by a factor of between 10x and 1000x_ in each of these example cases."
   ]
  },
  {
   "cell_type": "markdown",
   "metadata": {},
   "source": [
    "### The single most useful thing you can do to improve your numpy experience\n",
    "\n",
    "Just have a look at the available functions in numpy.  There are a lot.  There is a very good change that the one you need is there on the list somewhere.  You will be much better off using it."
   ]
  },
  {
   "cell_type": "code",
   "execution_count": null,
   "metadata": {},
   "outputs": [],
   "source": [
    "dir(np)"
   ]
  },
  {
   "cell_type": "markdown",
   "metadata": {},
   "source": [
    "Arithmatic operations on numpy arrays are all vectorized."
   ]
  },
  {
   "cell_type": "code",
   "execution_count": null,
   "metadata": {},
   "outputs": [],
   "source": [
    "def square(vect):\n",
    "    return np.array([val*val for val in vect])\n",
    "vect = np.linspace(0, 1, 10001)\n",
    "print(\"Time using arithmatic operation\")\n",
    "%time v2 = vect*vect\n",
    "print(\"Time using function\")\n",
    "%time v2 = square(vect)"
   ]
  },
  {
   "cell_type": "markdown",
   "metadata": {},
   "source": [
    "## Indexing\n",
    "\n",
    "In short, numpy gives you a very flexible array indexing syntax that allows you to do many very clever things relatively easily.  \n",
    "\n",
    "Once you learn the syntax.\n",
    "\n",
    "Before that you will probably feel like you are randomly trying things until you hit on the one that works.  That's fine, we've all been there.\n",
    "\n",
    "Some key points:\n",
    "\n",
    "    1. The syntax for array indexing along one axis is [start:stop:step]\n",
    "    2. The syntax for indexing along multiple axes is to use commas to seperate the axes, e.g., [i,j,k]\n",
    "    3. Numpy tries to to be efficient by making arrays \"views\" into a block of memory, rather than recopying the memory each time you change the indexing.\n",
    "\n"
   ]
  },
  {
   "cell_type": "code",
   "execution_count": null,
   "metadata": {},
   "outputs": [],
   "source": [
    "a_vect = np.arange(360)"
   ]
  },
  {
   "cell_type": "code",
   "execution_count": null,
   "metadata": {},
   "outputs": [],
   "source": [
    "def print_array_info(an_array):\n",
    "    base = an_array.base\n",
    "    if base is None:\n",
    "        base_shape = None\n",
    "    else:\n",
    "        base_shape = \"array%s\" % str(base.shape)\n",
    "    print(\"Array of %s: n=%i, nb=%i, shape=%s, strides=%s -> %s\" % (an_array.dtype, an_array.size, an_array.nbytes,\n",
    "                                                                        str(an_array.shape), str(an_array.strides),\n",
    "                                                                        str(base_shape)))"
   ]
  },
  {
   "cell_type": "code",
   "execution_count": null,
   "metadata": {},
   "outputs": [],
   "source": [
    "print_array_info(a_vect)"
   ]
  },
  {
   "cell_type": "code",
   "execution_count": null,
   "metadata": {
    "scrolled": true
   },
   "outputs": [],
   "source": [
    "print_array_info(a_vect)\n",
    "v = np.expand_dims(a_vect, 0)\n",
    "print_array_info(v)\n",
    "v2 = np.expand_dims(a_vect, -1)\n",
    "print_array_info(v2)\n",
    "v3 = a_vect.reshape(12,5,6)\n",
    "print_array_info(v3)\n",
    "print_array_info(v3[0])\n",
    "print_array_info(v3[:,:,0])\n",
    "print_array_info(v3[:,:,0:3])\n",
    "print_array_info(v3[:,:,None,:])\n",
    "print_array_info(v3[:,:,np.newaxis,:])"
   ]
  },
  {
   "cell_type": "markdown",
   "metadata": {},
   "source": [
    "#### Advanced indexing\n",
    "\n",
    "The cell below shows that numpy has a couple of very different ways to deal with array indexing.   In numpy documentation they are refered to as 'basic indexing' and 'advanced indexing'.\n",
    "\n",
    "  1. Basic indexing uses the [start:stop:step,start:stop:step] conventions.   \n",
    "  2. Advanced indexing uses arrays of either:\n",
    "     1. Arrays of integers to select particular elements by index\n",
    "     2. Arrays of booleans that act as a mask to select particular elements"
   ]
  },
  {
   "cell_type": "code",
   "execution_count": null,
   "metadata": {},
   "outputs": [],
   "source": [
    "print(v3[(1,2,3)])    # Gets element 1,2,3\n",
    "print(v3[1,2,3])      # Gets element 1,2,3,\n",
    "print(v3[(1,2,3),])   # Gets sub-arrays 1,2,3 from axis 0"
   ]
  },
  {
   "cell_type": "markdown",
   "metadata": {},
   "source": [
    "#### Advanced indexing using a sequence of integers"
   ]
  },
  {
   "cell_type": "code",
   "execution_count": null,
   "metadata": {},
   "outputs": [],
   "source": [
    "idx = [1,3,34,21,113]  # a list of integers\n",
    "print(a_vect[idx])\n",
    "idx = list((1,3,34,21,113))  # a tuple of integers converted to a list \n",
    "print(a_vect[idx])\n",
    "idx = np.array([1, 3, 34, 21, 113]) # an array of integers\n",
    "print(a_vect[idx])"
   ]
  },
  {
   "cell_type": "code",
   "execution_count": null,
   "metadata": {},
   "outputs": [],
   "source": [
    "idx = (1,3,34,21,113)  # A tuple of integers is treated as indices for the individual axes\n",
    "print(a_vect[idx])"
   ]
  },
  {
   "cell_type": "code",
   "execution_count": null,
   "metadata": {},
   "outputs": [],
   "source": [
    "print(a_vect[idx,])  # A tuple of tuples does work"
   ]
  },
  {
   "cell_type": "markdown",
   "metadata": {},
   "source": [
    "#### Advanced indexing using a mask"
   ]
  },
  {
   "cell_type": "code",
   "execution_count": null,
   "metadata": {},
   "outputs": [],
   "source": [
    "short_vect = a_vect[idx,]  # make a small array\n",
    "mask = [False, True, False, True, True] # make a mask that is the same shape\n",
    "short_vect[mask]"
   ]
  },
  {
   "cell_type": "code",
   "execution_count": null,
   "metadata": {},
   "outputs": [],
   "source": [
    "# You can also use numpy to easily create masks  \n",
    "randoms = np.random.uniform(size=(1000))\n",
    "print(randoms.min(),randoms.max())\n",
    "mask = randoms > 0.5\n",
    "masked_randoms = randoms[mask]\n",
    "print(masked_randoms.shape, masked_randoms.min(), masked_randoms.max())"
   ]
  },
  {
   "cell_type": "code",
   "execution_count": null,
   "metadata": {},
   "outputs": [],
   "source": [
    "# Using masks will always result in flattened arrays\n",
    "rand3d = randoms.reshape((10,10,10))\n",
    "mask3d = mask.reshape((10,10,10))\n",
    "masked_randoms = rand3d[mask3d]\n",
    "print(masked_randoms.shape, masked_randoms.min(), masked_randoms.max())"
   ]
  },
  {
   "cell_type": "markdown",
   "metadata": {},
   "source": [
    "## Array Broadcasting"
   ]
  },
  {
   "cell_type": "markdown",
   "metadata": {},
   "source": [
    "### broadcasting\n",
    "Broadcasting is a way of performing operations on numpy arrays of different shapes. \n",
    "\n",
    "When operating on two arrays, NumPy compares their shapes element-wise. It starts with the trailing dimensions, and works its way forward. Two dimensions are compatible when\n",
    "\n",
    "* they are equal, or\n",
    "* one of them is 1\n",
    "\n",
    "If these conditions are not met, an ```ValueError```  is thrown"
   ]
  },
  {
   "cell_type": "code",
   "execution_count": null,
   "metadata": {},
   "outputs": [],
   "source": [
    "# Lets start with a small 2D array\n",
    "values = np.ones((3,4))"
   ]
  },
  {
   "cell_type": "code",
   "execution_count": null,
   "metadata": {},
   "outputs": [],
   "source": [
    "print(\"Original array\", values.shape)  # same shape\n",
    "print(\"Array * scalar\", (values * np.ones((1))).shape) # multiply by a scalar, same shape\n",
    "print(\"Array * array(1,4)\", (values * np.ones((1,4))).shape) # broadcast over first axes, same shape\n",
    "print(\"Array * array(3,4)\", (values * np.ones((3,4))).shape) # both arrays have the same shape, output has the same shape\n",
    "print(\"Array * array(1,1,4)\", (values * np.ones((1,1,4))).shape) # add a new axes, broadcast over next axes, iterate over elements of last axes, output shape will be 1,3,4\n",
    "print(\"Array * array(4,1,1)\", (values * np.ones((4,1,1))).shape) # add new axes, then broadcast over two original axes, output shape will be 4,3,4 \n"
   ]
  },
  {
   "cell_type": "code",
   "execution_count": null,
   "metadata": {},
   "outputs": [],
   "source": [
    "# Can you figure out what the resulting value will be?\n",
    "np.ones((2,1,1)) + np.ones((3)) + np.ones((1,2,1)) "
   ]
  },
  {
   "cell_type": "code",
   "execution_count": null,
   "metadata": {},
   "outputs": [],
   "source": [
    "# Array broadcast is NOT matrix multplication\n",
    "np.ones((3,4)) * np.ones((4,3))"
   ]
  },
  {
   "cell_type": "code",
   "execution_count": null,
   "metadata": {},
   "outputs": [],
   "source": [
    "# You can use broadcasting and np.newaxis (which is actually just 'None') to do matrix multiplication,\n",
    "# It is a useful exercise to understand broadcasting, but np.matmul is way faster.\n",
    "m1 = np.ones((3,4))\n",
    "m2 = np.ones((4,3))\n",
    "m_prod_v0 = np.sum(m1[:,np.newaxis,:] * m2.T[np.newaxis,:,:], axis=2)\n",
    "m_prod_v1 = np.matmul(m1,m2)\n",
    "np.allclose(m_prod_v0, m_prod_v1)"
   ]
  },
  {
   "cell_type": "code",
   "execution_count": null,
   "metadata": {},
   "outputs": [],
   "source": []
  }
 ],
 "metadata": {
  "kernelspec": {
   "display_name": "Python 3",
   "language": "python",
   "name": "python3"
  },
  "language_info": {
   "codemirror_mode": {
    "name": "ipython",
    "version": 3
   },
   "file_extension": ".py",
   "mimetype": "text/x-python",
   "name": "python",
   "nbconvert_exporter": "python",
   "pygments_lexer": "ipython3",
   "version": "3.8.8"
  }
 },
 "nbformat": 4,
 "nbformat_minor": 4
}
