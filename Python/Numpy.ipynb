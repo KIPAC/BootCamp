{
 "cells": [
  {
   "cell_type": "markdown",
   "metadata": {},
   "source": [
    "# Unlocking the power of numpy\n",
    "\n",
    "\"Fast and versatile, the NumPy vectorization, indexing, and broadcasting concepts are the de-facto standards of array computing today.\"\n",
    "\n",
    "\"NumPy’s high level syntax makes it accessible and productive for programmers from any background or experience level.\"\n",
    "\n"
   ]
  },
  {
   "cell_type": "markdown",
   "metadata": {},
   "source": [
    "### Ok, lets get started\n",
    "\n",
    "I'm going to assume a bit of familiarity with numpy; specifically that you have used arrays, and figured out some of their properties, but don't really have a deep grasp of the underlying principles."
   ]
  },
  {
   "cell_type": "code",
   "execution_count": null,
   "metadata": {},
   "outputs": [],
   "source": [
    "import numpy as np"
   ]
  },
  {
   "cell_type": "markdown",
   "metadata": {},
   "source": [
    "## Vectorization\n",
    "\n",
    "\"Vectorization\" refers setting computations so that they can operate in parallel on many elements of a large array.\n",
    "This allows many speedups both in interpreting / compilling the code, as well as in exectuting it.  \\\n",
    "\n",
    "To demonstrate, here is a loop that someone new to python might write, if asked to generate an array that contains the cumulative sum of the first N integers.\n",
    "\n",
    "We are going to use the notebook built-in \"magic\" command \"%timeit\" to run and time several iterations of each version of the function."
   ]
  },
  {
   "cell_type": "code",
   "execution_count": 22,
   "metadata": {},
   "outputs": [],
   "source": [
    "def cumul_sum(N):\n",
    "    out_vals = []\n",
    "    running_sum = 0\n",
    "    for i in range(N):\n",
    "        running_sum += i\n",
    "        out_vals.append(running_sum)\n",
    "    return np.array(out_vals)"
   ]
  },
  {
   "cell_type": "code",
   "execution_count": 23,
   "metadata": {},
   "outputs": [
    {
     "name": "stdout",
     "output_type": "stream",
     "text": [
      "Version 1, using the function above with the loop\n",
      "14.9 ms ± 250 µs per loop (mean ± std. dev. of 7 runs, 100 loops each)\n",
      "Version 2, using a numpy function to do the cumulative sum\n",
      "153 µs ± 3.51 µs per loop (mean ± std. dev. of 7 runs, 10000 loops each)\n"
     ]
    }
   ],
   "source": [
    "N = 100000\n",
    "print(\"Version 1, using the function above with the loop\")\n",
    "%timeit v = cumul_sum(N)\n",
    "print(\"Version 2, using a numpy function to do the cumulative sum\")\n",
    "a = np.arange(N)\n",
    "%timeit v = np.cumsum(a)"
   ]
  },
  {
   "cell_type": "markdown",
   "metadata": {},
   "source": [
    "So, for that particular case the \"vectorized\" version is about 10x faster.  "
   ]
  },
  {
   "cell_type": "markdown",
   "metadata": {},
   "source": [
    "### Your intuition about processing time is probably wrong.\n",
    "\n",
    "I have been repeatedly surprised by the relative amount of time that it take to do things different ways in python.\n",
    "Some things that I thought would be very slow and actually reasonable quick, some things that seem like they should relatively quick are actually very slow.  \n",
    "\n",
    "Pretty much the only constants seem to be:\n",
    "  1. If you use the right numpy function it will be quick\n",
    "  2. If you do anything else it will be slower, possibly much slower\n",
    "  \n",
    "To illustrate this sort of variation I wrote several version of functions to do 4 simple operarions:\n",
    "  1. Summing all the integers up to N\n",
    "  2. Filling an array with the cumulative sum of all the integers up to N\n",
    "  3. Filling an array with the squares of all the integers up to N\n",
    "  4. Matrix multiplication"
   ]
  },
  {
   "cell_type": "code",
   "execution_count": 21,
   "metadata": {},
   "outputs": [
    {
     "name": "stdout",
     "output_type": "stream",
     "text": [
      "<function sum_v0 at 0x7ffbb58b2b80>(1000000) = 499999500000, dt=2.8610e-06, factor=1.0\n",
      "<function sum_v1 at 0x7ffbb6f14f70>(1000000) = 499999500000, dt=5.3041e-03, factor=1853.9\n",
      "<function sum_v2 at 0x7ffb8fadd040>(1000000) = 499999500000, dt=1.3193e-01, factor=46113.2\n",
      "<function sum_v3 at 0x7ffb8fadd0d0>(1000000) = 499999500000, dt=2.0415e-01, factor=71356.3\n",
      "<function sum_v4 at 0x7ffb8fa1a8b0>(1000000) = 499999500000, dt=4.9607e-02, factor=17338.9\n",
      "<function cumul_sum_v0 at 0x7ffb8fa1a820>(1000000) = 499999500000, dt=7.6571e-03, factor=1.0\n",
      "<function cumul_sum_v1 at 0x7ffb8f030ee0>(1000000) = 499999500000, dt=1.0444e-02, factor=1.4\n",
      "<function cumul_sum_v2 at 0x7ffb8fadc160>(1000000) = 499999500000, dt=2.7365e-01, factor=35.7\n",
      "<function cumul_sum_v3 at 0x7ffb8fadc280>(1000000) = 499999500000, dt=1.2948e-01, factor=16.9\n",
      "<function cumul_sum_v4 at 0x7ffb8fadc0d0>(1000000) = 499999500000, dt=4.4804e-01, factor=58.5\n",
      "<function cumul_sum_v5 at 0x7ffb8fadc310>(1000000) = 499999500000, dt=1.9642e-01, factor=25.7\n",
      "<function cumul_sum_v6 at 0x7ffb8fadc430>(1000000) = 499999500000, dt=1.8390e-01, factor=24.0\n",
      "<function squares_v0 at 0x7ffb8fadc4c0>(1000000) = 1.00e+00, dt=1.3742e-03, factor=1.0\n",
      "<function squares_v1 at 0x7ffb8fadc550>(1000000) = 1.00e+00, dt=3.0067e-01, factor=218.8\n",
      "<function squares_v2 at 0x7ffb8fadc5e0>(1000000) = 1.00e+00, dt=3.0554e-01, factor=222.3\n",
      "<function squares_v3 at 0x7ffb8fadc670>(1000000) = 1.00e+00, dt=1.6825e-01, factor=122.4\n",
      "<function squares_v4 at 0x7ffb8fadc700>(1000000) = 1.00e+00, dt=1.6515e-01, factor=120.2\n",
      "<function matmul_v0 at 0x7ffb8fadc790>(500, 500) +- 0.00e+00, 0.00e+00, dt=1.9152e-03, factor=1.0\n",
      "<function matmul_v1 at 0x7ffb8fadc820>(500, 500) +- -1.99e-13, 2.27e-13, dt=1.0568e+00, factor=551.8\n",
      "<function matmul_v2 at 0x7ffb8fadc8b0>(500, 500) +- -1.07e-13, 8.53e-14, dt=1.8489e+00, factor=965.4\n",
      "<function matmul_v3 at 0x7ffb8fadc940>(500, 500) +- -1.99e-13, 2.27e-13, dt=5.7687e+01, factor=30120.1\n",
      "<function matmul_v4 at 0x7ffb8fadc9d0>(500, 500) +- -1.07e-13, 8.53e-14, dt=1.8187e+00, factor=949.6\n",
      "<function matmul_v5 at 0x7ffb8fadca60>(500, 500) +- -1.99e-13, 2.27e-13, dt=5.9621e+01, factor=31130.1\n",
      "<function matmul_v6 at 0x7ffb8fadcaf0>(500, 500) +- -1.99e-13, 2.27e-13, dt=8.2451e+01, factor=43050.7\n",
      "<function matmul_v7 at 0x7ffb8fadcb80>(500, 500) +- -1.99e-13, 2.27e-13, dt=5.6774e+01, factor=29643.5\n",
      "<function matmul_v8 at 0x7ffb8fadcc10>(500, 500) +- -1.99e-13, 2.27e-13, dt=7.9224e+01, factor=41365.4\n"
     ]
    }
   ],
   "source": [
    "from xipe.funcs_to_profile import matmul_v0, matmul_v6"
   ]
  },
  {
   "cell_type": "markdown",
   "metadata": {},
   "source": [
    "It was interesting to see some discussion of the #software-dev channel about the effect of the loop-ordering in the matrix-multiplication. \n",
    "\n",
    "Loop ordering was a big deal to people my age when we were writing FORTRAN, c and c++ code back in grad school. \n",
    "Although loop-ordering does have an effect at the 10-50% level, simply using loops at all, instead of the built-in numpy functions _has already slowed the code down by a factor of between 10x and 1000x_ in each of these example cases."
   ]
  },
  {
   "cell_type": "markdown",
   "metadata": {},
   "source": [
    "### The single most useful thing you can do to improve your numpy experience\n",
    "\n",
    "Just have a look at the available functions in numpy.  There are a lot.  There is a very good change that the one you need is there on the list somewhere.  You will be much better off using it."
   ]
  },
  {
   "cell_type": "code",
   "execution_count": 202,
   "metadata": {},
   "outputs": [
    {
     "data": {
      "text/plain": [
       "['ALLOW_THREADS',\n",
       " 'AxisError',\n",
       " 'BUFSIZE',\n",
       " 'CLIP',\n",
       " 'ComplexWarning',\n",
       " 'DataSource',\n",
       " 'ERR_CALL',\n",
       " 'ERR_DEFAULT',\n",
       " 'ERR_IGNORE',\n",
       " 'ERR_LOG',\n",
       " 'ERR_PRINT',\n",
       " 'ERR_RAISE',\n",
       " 'ERR_WARN',\n",
       " 'FLOATING_POINT_SUPPORT',\n",
       " 'FPE_DIVIDEBYZERO',\n",
       " 'FPE_INVALID',\n",
       " 'FPE_OVERFLOW',\n",
       " 'FPE_UNDERFLOW',\n",
       " 'False_',\n",
       " 'Inf',\n",
       " 'Infinity',\n",
       " 'MAXDIMS',\n",
       " 'MAY_SHARE_BOUNDS',\n",
       " 'MAY_SHARE_EXACT',\n",
       " 'MachAr',\n",
       " 'ModuleDeprecationWarning',\n",
       " 'NAN',\n",
       " 'NINF',\n",
       " 'NZERO',\n",
       " 'NaN',\n",
       " 'PINF',\n",
       " 'PZERO',\n",
       " 'RAISE',\n",
       " 'RankWarning',\n",
       " 'SHIFT_DIVIDEBYZERO',\n",
       " 'SHIFT_INVALID',\n",
       " 'SHIFT_OVERFLOW',\n",
       " 'SHIFT_UNDERFLOW',\n",
       " 'ScalarType',\n",
       " 'Tester',\n",
       " 'TooHardError',\n",
       " 'True_',\n",
       " 'UFUNC_BUFSIZE_DEFAULT',\n",
       " 'UFUNC_PYVALS_NAME',\n",
       " 'VisibleDeprecationWarning',\n",
       " 'WRAP',\n",
       " '_NoValue',\n",
       " '_UFUNC_API',\n",
       " '__NUMPY_SETUP__',\n",
       " '__all__',\n",
       " '__builtins__',\n",
       " '__cached__',\n",
       " '__config__',\n",
       " '__dir__',\n",
       " '__doc__',\n",
       " '__file__',\n",
       " '__getattr__',\n",
       " '__git_revision__',\n",
       " '__loader__',\n",
       " '__mkl_version__',\n",
       " '__name__',\n",
       " '__package__',\n",
       " '__path__',\n",
       " '__spec__',\n",
       " '__version__',\n",
       " '_add_newdoc_ufunc',\n",
       " '_distributor_init',\n",
       " '_globals',\n",
       " '_mat',\n",
       " '_pytesttester',\n",
       " 'abs',\n",
       " 'absolute',\n",
       " 'absolute_import',\n",
       " 'add',\n",
       " 'add_docstring',\n",
       " 'add_newdoc',\n",
       " 'add_newdoc_ufunc',\n",
       " 'alen',\n",
       " 'all',\n",
       " 'allclose',\n",
       " 'alltrue',\n",
       " 'amax',\n",
       " 'amin',\n",
       " 'angle',\n",
       " 'any',\n",
       " 'append',\n",
       " 'apply_along_axis',\n",
       " 'apply_over_axes',\n",
       " 'arange',\n",
       " 'arccos',\n",
       " 'arccosh',\n",
       " 'arcsin',\n",
       " 'arcsinh',\n",
       " 'arctan',\n",
       " 'arctan2',\n",
       " 'arctanh',\n",
       " 'argmax',\n",
       " 'argmin',\n",
       " 'argpartition',\n",
       " 'argsort',\n",
       " 'argwhere',\n",
       " 'around',\n",
       " 'array',\n",
       " 'array2string',\n",
       " 'array_equal',\n",
       " 'array_equiv',\n",
       " 'array_repr',\n",
       " 'array_split',\n",
       " 'array_str',\n",
       " 'asanyarray',\n",
       " 'asarray',\n",
       " 'asarray_chkfinite',\n",
       " 'ascontiguousarray',\n",
       " 'asfarray',\n",
       " 'asfortranarray',\n",
       " 'asmatrix',\n",
       " 'asscalar',\n",
       " 'atleast_1d',\n",
       " 'atleast_2d',\n",
       " 'atleast_3d',\n",
       " 'average',\n",
       " 'bartlett',\n",
       " 'base_repr',\n",
       " 'binary_repr',\n",
       " 'bincount',\n",
       " 'bitwise_and',\n",
       " 'bitwise_not',\n",
       " 'bitwise_or',\n",
       " 'bitwise_xor',\n",
       " 'blackman',\n",
       " 'block',\n",
       " 'bmat',\n",
       " 'bool',\n",
       " 'bool8',\n",
       " 'bool_',\n",
       " 'broadcast',\n",
       " 'broadcast_arrays',\n",
       " 'broadcast_to',\n",
       " 'busday_count',\n",
       " 'busday_offset',\n",
       " 'busdaycalendar',\n",
       " 'byte',\n",
       " 'byte_bounds',\n",
       " 'bytes0',\n",
       " 'bytes_',\n",
       " 'c_',\n",
       " 'can_cast',\n",
       " 'cast',\n",
       " 'cbrt',\n",
       " 'cdouble',\n",
       " 'ceil',\n",
       " 'cfloat',\n",
       " 'char',\n",
       " 'character',\n",
       " 'chararray',\n",
       " 'choose',\n",
       " 'clip',\n",
       " 'clongdouble',\n",
       " 'clongfloat',\n",
       " 'column_stack',\n",
       " 'common_type',\n",
       " 'compare_chararrays',\n",
       " 'compat',\n",
       " 'complex',\n",
       " 'complex128',\n",
       " 'complex256',\n",
       " 'complex64',\n",
       " 'complex_',\n",
       " 'complexfloating',\n",
       " 'compress',\n",
       " 'concatenate',\n",
       " 'conj',\n",
       " 'conjugate',\n",
       " 'convolve',\n",
       " 'copy',\n",
       " 'copysign',\n",
       " 'copyto',\n",
       " 'core',\n",
       " 'corrcoef',\n",
       " 'correlate',\n",
       " 'cos',\n",
       " 'cosh',\n",
       " 'count_nonzero',\n",
       " 'cov',\n",
       " 'cross',\n",
       " 'csingle',\n",
       " 'ctypeslib',\n",
       " 'cumprod',\n",
       " 'cumproduct',\n",
       " 'cumsum',\n",
       " 'datetime64',\n",
       " 'datetime_as_string',\n",
       " 'datetime_data',\n",
       " 'deg2rad',\n",
       " 'degrees',\n",
       " 'delete',\n",
       " 'deprecate',\n",
       " 'deprecate_with_doc',\n",
       " 'diag',\n",
       " 'diag_indices',\n",
       " 'diag_indices_from',\n",
       " 'diagflat',\n",
       " 'diagonal',\n",
       " 'diff',\n",
       " 'digitize',\n",
       " 'disp',\n",
       " 'divide',\n",
       " 'division',\n",
       " 'divmod',\n",
       " 'dot',\n",
       " 'double',\n",
       " 'dsplit',\n",
       " 'dstack',\n",
       " 'dtype',\n",
       " 'e',\n",
       " 'ediff1d',\n",
       " 'einsum',\n",
       " 'einsum_path',\n",
       " 'emath',\n",
       " 'empty',\n",
       " 'empty_like',\n",
       " 'equal',\n",
       " 'errstate',\n",
       " 'euler_gamma',\n",
       " 'exp',\n",
       " 'exp2',\n",
       " 'expand_dims',\n",
       " 'expm1',\n",
       " 'extract',\n",
       " 'eye',\n",
       " 'fabs',\n",
       " 'fastCopyAndTranspose',\n",
       " 'fft',\n",
       " 'fill_diagonal',\n",
       " 'find_common_type',\n",
       " 'finfo',\n",
       " 'fix',\n",
       " 'flatiter',\n",
       " 'flatnonzero',\n",
       " 'flexible',\n",
       " 'flip',\n",
       " 'fliplr',\n",
       " 'flipud',\n",
       " 'float',\n",
       " 'float128',\n",
       " 'float16',\n",
       " 'float32',\n",
       " 'float64',\n",
       " 'float_',\n",
       " 'float_power',\n",
       " 'floating',\n",
       " 'floor',\n",
       " 'floor_divide',\n",
       " 'fmax',\n",
       " 'fmin',\n",
       " 'fmod',\n",
       " 'format_float_positional',\n",
       " 'format_float_scientific',\n",
       " 'format_parser',\n",
       " 'frexp',\n",
       " 'frombuffer',\n",
       " 'fromfile',\n",
       " 'fromfunction',\n",
       " 'fromiter',\n",
       " 'frompyfunc',\n",
       " 'fromregex',\n",
       " 'fromstring',\n",
       " 'full',\n",
       " 'full_like',\n",
       " 'fv',\n",
       " 'gcd',\n",
       " 'generic',\n",
       " 'genfromtxt',\n",
       " 'geomspace',\n",
       " 'get_array_wrap',\n",
       " 'get_include',\n",
       " 'get_printoptions',\n",
       " 'getbufsize',\n",
       " 'geterr',\n",
       " 'geterrcall',\n",
       " 'geterrobj',\n",
       " 'gradient',\n",
       " 'greater',\n",
       " 'greater_equal',\n",
       " 'half',\n",
       " 'hamming',\n",
       " 'hanning',\n",
       " 'heaviside',\n",
       " 'histogram',\n",
       " 'histogram2d',\n",
       " 'histogram_bin_edges',\n",
       " 'histogramdd',\n",
       " 'hsplit',\n",
       " 'hstack',\n",
       " 'hypot',\n",
       " 'i0',\n",
       " 'identity',\n",
       " 'iinfo',\n",
       " 'imag',\n",
       " 'in1d',\n",
       " 'index_exp',\n",
       " 'indices',\n",
       " 'inexact',\n",
       " 'inf',\n",
       " 'info',\n",
       " 'infty',\n",
       " 'inner',\n",
       " 'insert',\n",
       " 'int',\n",
       " 'int0',\n",
       " 'int16',\n",
       " 'int32',\n",
       " 'int64',\n",
       " 'int8',\n",
       " 'int_',\n",
       " 'int_asbuffer',\n",
       " 'intc',\n",
       " 'integer',\n",
       " 'interp',\n",
       " 'intersect1d',\n",
       " 'intp',\n",
       " 'invert',\n",
       " 'ipmt',\n",
       " 'irr',\n",
       " 'is_busday',\n",
       " 'isclose',\n",
       " 'iscomplex',\n",
       " 'iscomplexobj',\n",
       " 'isfinite',\n",
       " 'isfortran',\n",
       " 'isin',\n",
       " 'isinf',\n",
       " 'isnan',\n",
       " 'isnat',\n",
       " 'isneginf',\n",
       " 'isposinf',\n",
       " 'isreal',\n",
       " 'isrealobj',\n",
       " 'isscalar',\n",
       " 'issctype',\n",
       " 'issubclass_',\n",
       " 'issubdtype',\n",
       " 'issubsctype',\n",
       " 'iterable',\n",
       " 'ix_',\n",
       " 'kaiser',\n",
       " 'kron',\n",
       " 'lcm',\n",
       " 'ldexp',\n",
       " 'left_shift',\n",
       " 'less',\n",
       " 'less_equal',\n",
       " 'lexsort',\n",
       " 'lib',\n",
       " 'linalg',\n",
       " 'linspace',\n",
       " 'little_endian',\n",
       " 'load',\n",
       " 'loads',\n",
       " 'loadtxt',\n",
       " 'log',\n",
       " 'log10',\n",
       " 'log1p',\n",
       " 'log2',\n",
       " 'logaddexp',\n",
       " 'logaddexp2',\n",
       " 'logical_and',\n",
       " 'logical_not',\n",
       " 'logical_or',\n",
       " 'logical_xor',\n",
       " 'logspace',\n",
       " 'long',\n",
       " 'longcomplex',\n",
       " 'longdouble',\n",
       " 'longfloat',\n",
       " 'longlong',\n",
       " 'lookfor',\n",
       " 'ma',\n",
       " 'mafromtxt',\n",
       " 'mask_indices',\n",
       " 'mat',\n",
       " 'math',\n",
       " 'matmul',\n",
       " 'matrix',\n",
       " 'matrixlib',\n",
       " 'max',\n",
       " 'maximum',\n",
       " 'maximum_sctype',\n",
       " 'may_share_memory',\n",
       " 'mean',\n",
       " 'median',\n",
       " 'memmap',\n",
       " 'meshgrid',\n",
       " 'mgrid',\n",
       " 'min',\n",
       " 'min_scalar_type',\n",
       " 'minimum',\n",
       " 'mintypecode',\n",
       " 'mirr',\n",
       " 'mkl',\n",
       " 'mod',\n",
       " 'modf',\n",
       " 'moveaxis',\n",
       " 'msort',\n",
       " 'multiply',\n",
       " 'nan',\n",
       " 'nan_to_num',\n",
       " 'nanargmax',\n",
       " 'nanargmin',\n",
       " 'nancumprod',\n",
       " 'nancumsum',\n",
       " 'nanmax',\n",
       " 'nanmean',\n",
       " 'nanmedian',\n",
       " 'nanmin',\n",
       " 'nanpercentile',\n",
       " 'nanprod',\n",
       " 'nanquantile',\n",
       " 'nanstd',\n",
       " 'nansum',\n",
       " 'nanvar',\n",
       " 'nbytes',\n",
       " 'ndarray',\n",
       " 'ndenumerate',\n",
       " 'ndfromtxt',\n",
       " 'ndim',\n",
       " 'ndindex',\n",
       " 'nditer',\n",
       " 'negative',\n",
       " 'nested_iters',\n",
       " 'newaxis',\n",
       " 'nextafter',\n",
       " 'nonzero',\n",
       " 'not_equal',\n",
       " 'nper',\n",
       " 'npv',\n",
       " 'numarray',\n",
       " 'number',\n",
       " 'obj2sctype',\n",
       " 'object',\n",
       " 'object0',\n",
       " 'object_',\n",
       " 'ogrid',\n",
       " 'oldnumeric',\n",
       " 'ones',\n",
       " 'ones_like',\n",
       " 'outer',\n",
       " 'packbits',\n",
       " 'pad',\n",
       " 'partition',\n",
       " 'percentile',\n",
       " 'pi',\n",
       " 'piecewise',\n",
       " 'place',\n",
       " 'pmt',\n",
       " 'poly',\n",
       " 'poly1d',\n",
       " 'polyadd',\n",
       " 'polyder',\n",
       " 'polydiv',\n",
       " 'polyfit',\n",
       " 'polyint',\n",
       " 'polymul',\n",
       " 'polynomial',\n",
       " 'polysub',\n",
       " 'polyval',\n",
       " 'positive',\n",
       " 'power',\n",
       " 'ppmt',\n",
       " 'print_function',\n",
       " 'printoptions',\n",
       " 'prod',\n",
       " 'product',\n",
       " 'promote_types',\n",
       " 'ptp',\n",
       " 'put',\n",
       " 'put_along_axis',\n",
       " 'putmask',\n",
       " 'pv',\n",
       " 'quantile',\n",
       " 'r_',\n",
       " 'rad2deg',\n",
       " 'radians',\n",
       " 'random',\n",
       " 'rate',\n",
       " 'ravel',\n",
       " 'ravel_multi_index',\n",
       " 'real',\n",
       " 'real_if_close',\n",
       " 'rec',\n",
       " 'recarray',\n",
       " 'recfromcsv',\n",
       " 'recfromtxt',\n",
       " 'reciprocal',\n",
       " 'record',\n",
       " 'remainder',\n",
       " 'repeat',\n",
       " 'require',\n",
       " 'reshape',\n",
       " 'resize',\n",
       " 'result_type',\n",
       " 'right_shift',\n",
       " 'rint',\n",
       " 'roll',\n",
       " 'rollaxis',\n",
       " 'roots',\n",
       " 'rot90',\n",
       " 'round',\n",
       " 'round_',\n",
       " 'row_stack',\n",
       " 's_',\n",
       " 'safe_eval',\n",
       " 'save',\n",
       " 'savetxt',\n",
       " 'savez',\n",
       " 'savez_compressed',\n",
       " 'sctype2char',\n",
       " 'sctypeDict',\n",
       " 'sctypeNA',\n",
       " 'sctypes',\n",
       " 'searchsorted',\n",
       " 'select',\n",
       " 'set_numeric_ops',\n",
       " 'set_printoptions',\n",
       " 'set_string_function',\n",
       " 'setbufsize',\n",
       " 'setdiff1d',\n",
       " 'seterr',\n",
       " 'seterrcall',\n",
       " 'seterrobj',\n",
       " 'setxor1d',\n",
       " 'shape',\n",
       " 'shares_memory',\n",
       " 'short',\n",
       " 'show_config',\n",
       " 'sign',\n",
       " 'signbit',\n",
       " 'signedinteger',\n",
       " 'sin',\n",
       " 'sinc',\n",
       " 'single',\n",
       " 'singlecomplex',\n",
       " 'sinh',\n",
       " 'size',\n",
       " 'sometrue',\n",
       " 'sort',\n",
       " 'sort_complex',\n",
       " 'source',\n",
       " 'spacing',\n",
       " 'split',\n",
       " 'sqrt',\n",
       " 'square',\n",
       " 'squeeze',\n",
       " 'stack',\n",
       " 'std',\n",
       " 'str',\n",
       " 'str0',\n",
       " 'str_',\n",
       " 'string_',\n",
       " 'subtract',\n",
       " 'sum',\n",
       " 'swapaxes',\n",
       " 'sys',\n",
       " 'take',\n",
       " 'take_along_axis',\n",
       " 'tan',\n",
       " 'tanh',\n",
       " 'tensordot',\n",
       " 'test',\n",
       " 'testing',\n",
       " 'testing',\n",
       " 'tile',\n",
       " 'timedelta64',\n",
       " 'trace',\n",
       " 'tracemalloc_domain',\n",
       " 'transpose',\n",
       " 'trapz',\n",
       " 'tri',\n",
       " 'tril',\n",
       " 'tril_indices',\n",
       " 'tril_indices_from',\n",
       " 'trim_zeros',\n",
       " 'triu',\n",
       " 'triu_indices',\n",
       " 'triu_indices_from',\n",
       " 'true_divide',\n",
       " 'trunc',\n",
       " 'typeDict',\n",
       " 'typeNA',\n",
       " 'typecodes',\n",
       " 'typename',\n",
       " 'ubyte',\n",
       " 'ufunc',\n",
       " 'uint',\n",
       " 'uint0',\n",
       " 'uint16',\n",
       " 'uint32',\n",
       " 'uint64',\n",
       " 'uint8',\n",
       " 'uintc',\n",
       " 'uintp',\n",
       " 'ulonglong',\n",
       " 'unicode',\n",
       " 'unicode_',\n",
       " 'union1d',\n",
       " 'unique',\n",
       " 'unpackbits',\n",
       " 'unravel_index',\n",
       " 'unsignedinteger',\n",
       " 'unwrap',\n",
       " 'ushort',\n",
       " 'vander',\n",
       " 'var',\n",
       " 'vdot',\n",
       " 'vectorize',\n",
       " 'version',\n",
       " 'void',\n",
       " 'void0',\n",
       " 'vsplit',\n",
       " 'vstack',\n",
       " 'warnings',\n",
       " 'where',\n",
       " 'who',\n",
       " 'zeros',\n",
       " 'zeros_like']"
      ]
     },
     "execution_count": 202,
     "metadata": {},
     "output_type": "execute_result"
    }
   ],
   "source": [
    "dir(np)"
   ]
  },
  {
   "cell_type": "markdown",
   "metadata": {},
   "source": [
    "Arithmatic operations on numpy arrays are all vectorized."
   ]
  },
  {
   "cell_type": "code",
   "execution_count": 165,
   "metadata": {},
   "outputs": [
    {
     "name": "stdout",
     "output_type": "stream",
     "text": [
      "Time using arithmatic operation\n",
      "CPU times: user 110 µs, sys: 52 µs, total: 162 µs\n",
      "Wall time: 128 µs\n",
      "Time using function\n",
      "CPU times: user 2.44 ms, sys: 399 µs, total: 2.84 ms\n",
      "Wall time: 2.85 ms\n"
     ]
    }
   ],
   "source": [
    "def square(vect):\n",
    "    return np.array([val*val for val in vect])\n",
    "vect = np.linspace(0, 1, 10001)\n",
    "print(\"Time using arithmatic operation\")\n",
    "%time v2 = vect*vect\n",
    "print(\"Time using function\")\n",
    "%time v2 = square(vect)"
   ]
  },
  {
   "cell_type": "markdown",
   "metadata": {},
   "source": [
    "## Indexing\n",
    "\n",
    "In short, numpy gives you a very flexible array indexing syntax that allows you to do many very clever things relatively easily.  \n",
    "\n",
    "Once you learn the syntax.\n",
    "\n",
    "Before that you will probably feel like you are randomly trying things until you hit on the one that works.  That's fine, we've all been there.\n",
    "\n",
    "Some key points:\n",
    "\n",
    "    1. The syntax for array indexing along one axis is [start:stop:step]\n",
    "    2. The syntax for indexing along multiple axes is to use commas to seperate the axes, e.g., [i,j,k]\n",
    "    3. Numpy tries to to be efficient by making arrays \"views\" into a block of memory, rather than recopying the memory each time you change the indexing.\n",
    "\n"
   ]
  },
  {
   "cell_type": "code",
   "execution_count": 113,
   "metadata": {},
   "outputs": [],
   "source": [
    "a_vect = np.arange(360)"
   ]
  },
  {
   "cell_type": "code",
   "execution_count": 200,
   "metadata": {},
   "outputs": [],
   "source": [
    "def print_array_info(an_array):\n",
    "    base = an_array.base\n",
    "    if base is None:\n",
    "        base_shape = None\n",
    "    else:\n",
    "        base_shape = \"array%s\" % str(base.shape)\n",
    "    print(\"Array of %s: n=%i, nb=%i, shape=%s, strides=%s -> %s\" % (an_array.dtype, an_array.size, an_array.nbytes,\n",
    "                                                                        str(an_array.shape), str(an_array.strides),\n",
    "                                                                        str(base_shape)))"
   ]
  },
  {
   "cell_type": "code",
   "execution_count": 203,
   "metadata": {},
   "outputs": [
    {
     "name": "stdout",
     "output_type": "stream",
     "text": [
      "Array of int64: n=360, nb=2880, shape=(360,), strides=(8,) -> None\n"
     ]
    }
   ],
   "source": [
    "print_array_info(a_vect)"
   ]
  },
  {
   "cell_type": "code",
   "execution_count": 204,
   "metadata": {
    "scrolled": true
   },
   "outputs": [
    {
     "name": "stdout",
     "output_type": "stream",
     "text": [
      "Array of int64: n=360, nb=2880, shape=(360,), strides=(8,) -> None\n",
      "Array of int64: n=360, nb=2880, shape=(1, 360), strides=(2880, 8) -> array(360,)\n",
      "Array of int64: n=360, nb=2880, shape=(360, 1), strides=(8, 8) -> array(360,)\n",
      "Array of int64: n=360, nb=2880, shape=(12, 5, 6), strides=(240, 48, 8) -> array(360,)\n",
      "Array of int64: n=30, nb=240, shape=(5, 6), strides=(48, 8) -> array(360,)\n",
      "Array of int64: n=60, nb=480, shape=(12, 5), strides=(240, 48) -> array(360,)\n",
      "Array of int64: n=180, nb=1440, shape=(12, 5, 3), strides=(240, 48, 8) -> array(360,)\n",
      "Array of int64: n=360, nb=2880, shape=(12, 5, 1, 6), strides=(240, 48, 0, 8) -> array(360,)\n",
      "Array of int64: n=360, nb=2880, shape=(12, 5, 1, 6), strides=(240, 48, 0, 8) -> array(360,)\n"
     ]
    }
   ],
   "source": [
    "print_array_info(a_vect)\n",
    "v = np.expand_dims(a_vect, 0)\n",
    "print_array_info(v)\n",
    "v2 = np.expand_dims(a_vect, -1)\n",
    "print_array_info(v2)\n",
    "v3 = a_vect.reshape(12,5,6)\n",
    "print_array_info(v3)\n",
    "print_array_info(v3[0])\n",
    "print_array_info(v3[:,:,0])\n",
    "print_array_info(v3[:,:,0:3])\n",
    "print_array_info(v3[:,:,None,:])\n",
    "print_array_info(v3[:,:,np.newaxis,:])"
   ]
  },
  {
   "cell_type": "markdown",
   "metadata": {},
   "source": [
    "#### Advanced indexing"
   ]
  },
  {
   "cell_type": "code",
   "execution_count": 107,
   "metadata": {},
   "outputs": [
    {
     "name": "stdout",
     "output_type": "stream",
     "text": [
      "45\n",
      "45\n",
      "[[[ 30  31  32  33  34  35]\n",
      "  [ 36  37  38  39  40  41]\n",
      "  [ 42  43  44  45  46  47]\n",
      "  [ 48  49  50  51  52  53]\n",
      "  [ 54  55  56  57  58  59]]\n",
      "\n",
      " [[ 60  61  62  63  64  65]\n",
      "  [ 66  67  68  69  70  71]\n",
      "  [ 72  73  74  75  76  77]\n",
      "  [ 78  79  80  81  82  83]\n",
      "  [ 84  85  86  87  88  89]]\n",
      "\n",
      " [[ 90  91  92  93  94  95]\n",
      "  [ 96  97  98  99 100 101]\n",
      "  [102 103 104 105 106 107]\n",
      "  [108 109 110 111 112 113]\n",
      "  [114 115 116 117 118 119]]]\n"
     ]
    }
   ],
   "source": [
    "print(v3[(1,2,3)])    # Gets element 1,2,3\n",
    "print(v3[1,2,3])      # Gets element 1,2,3,\n",
    "print(v3[(1,2,3),])   # Gets sub-arrays 1,2,3 from axis 0"
   ]
  },
  {
   "cell_type": "markdown",
   "metadata": {},
   "source": [
    "#### Indexing using a sequence of integers"
   ]
  },
  {
   "cell_type": "code",
   "execution_count": 142,
   "metadata": {},
   "outputs": [
    {
     "name": "stdout",
     "output_type": "stream",
     "text": [
      "[  1   3  34  21 113]\n",
      "[  1   3  34  21 113]\n"
     ]
    }
   ],
   "source": [
    "idx = [1,3,34,21,113]\n",
    "print(a_vect[idx])\n",
    "idx = list((1,3,34,21,113))\n",
    "print(a_vect[idx])"
   ]
  },
  {
   "cell_type": "code",
   "execution_count": 143,
   "metadata": {},
   "outputs": [
    {
     "ename": "IndexError",
     "evalue": "too many indices for array",
     "output_type": "error",
     "traceback": [
      "\u001b[0;31m---------------------------------------------------------------------------\u001b[0m",
      "\u001b[0;31mIndexError\u001b[0m                                Traceback (most recent call last)",
      "\u001b[0;32m<ipython-input-143-be7ec01abc53>\u001b[0m in \u001b[0;36m<module>\u001b[0;34m\u001b[0m\n\u001b[1;32m      1\u001b[0m \u001b[0midx\u001b[0m \u001b[0;34m=\u001b[0m \u001b[0;34m(\u001b[0m\u001b[0;36m1\u001b[0m\u001b[0;34m,\u001b[0m\u001b[0;36m3\u001b[0m\u001b[0;34m,\u001b[0m\u001b[0;36m34\u001b[0m\u001b[0;34m,\u001b[0m\u001b[0;36m21\u001b[0m\u001b[0;34m,\u001b[0m\u001b[0;36m113\u001b[0m\u001b[0;34m)\u001b[0m\u001b[0;34m\u001b[0m\u001b[0;34m\u001b[0m\u001b[0m\n\u001b[0;32m----> 2\u001b[0;31m \u001b[0mprint\u001b[0m\u001b[0;34m(\u001b[0m\u001b[0ma_vect\u001b[0m\u001b[0;34m[\u001b[0m\u001b[0midx\u001b[0m\u001b[0;34m]\u001b[0m\u001b[0;34m)\u001b[0m\u001b[0;34m\u001b[0m\u001b[0;34m\u001b[0m\u001b[0m\n\u001b[0m",
      "\u001b[0;31mIndexError\u001b[0m: too many indices for array"
     ]
    }
   ],
   "source": [
    "idx = (1,3,34,21,113)\n",
    "print(a_vect[idx])"
   ]
  },
  {
   "cell_type": "code",
   "execution_count": 144,
   "metadata": {},
   "outputs": [
    {
     "name": "stdout",
     "output_type": "stream",
     "text": [
      "[  1   3  34  21 113]\n"
     ]
    }
   ],
   "source": [
    "print(a_vect[idx,])"
   ]
  },
  {
   "cell_type": "markdown",
   "metadata": {},
   "source": [
    "#### Indexing using a mask"
   ]
  },
  {
   "cell_type": "code",
   "execution_count": 149,
   "metadata": {},
   "outputs": [
    {
     "data": {
      "text/plain": [
       "array([  3,  21, 113])"
      ]
     },
     "execution_count": 149,
     "metadata": {},
     "output_type": "execute_result"
    }
   ],
   "source": [
    "short_vect = a_vect[idx,]\n",
    "mask = [False, True, False, True, True]\n",
    "short_vect[mask]"
   ]
  },
  {
   "cell_type": "code",
   "execution_count": 156,
   "metadata": {},
   "outputs": [
    {
     "name": "stdout",
     "output_type": "stream",
     "text": [
      "7.758478230091015e-06 0.9959555852393748\n",
      "464 0.5018564219894138 0.9959555852393748\n"
     ]
    }
   ],
   "source": [
    "randoms = np.random.uniform(size=(1000))\n",
    "print(randoms.min(),randoms.max())\n",
    "mask = randoms > 0.5\n",
    "masked_randoms = randoms[mask]\n",
    "print(masked_randoms.shape, masked_randoms.min(), masked_randoms.max())"
   ]
  },
  {
   "cell_type": "code",
   "execution_count": 160,
   "metadata": {},
   "outputs": [
    {
     "name": "stdout",
     "output_type": "stream",
     "text": [
      "(464,) 0.5018564219894138 0.9959555852393748\n"
     ]
    }
   ],
   "source": [
    "rand3d = randoms.reshape((10,10,10))\n",
    "mask3d = mask.reshape((10,10,10))\n",
    "masked_randoms = rand3d[mask3d]\n",
    "print(masked_randoms.shape, masked_randoms.min(), masked_randoms.max())"
   ]
  },
  {
   "cell_type": "code",
   "execution_count": 164,
   "metadata": {},
   "outputs": [
    {
     "data": {
      "text/plain": [
       "(10, 10)"
      ]
     },
     "execution_count": 164,
     "metadata": {},
     "output_type": "execute_result"
    }
   ],
   "source": [
    "mask3d[:,1,:]"
   ]
  },
  {
   "cell_type": "code",
   "execution_count": 147,
   "metadata": {},
   "outputs": [
    {
     "name": "stdout",
     "output_type": "stream",
     "text": [
      "[109  56  81]\n"
     ]
    }
   ],
   "source": [
    "print(v3[(3,1,2),(3,4,3),(1,2,3)])"
   ]
  },
  {
   "cell_type": "markdown",
   "metadata": {},
   "source": [
    "## Array Broadcasting"
   ]
  },
  {
   "cell_type": "markdown",
   "metadata": {},
   "source": [
    "### broadcasting\n",
    "Broadcasting is a way of performing operations on numpy arrays of different shapes. \n",
    "\n",
    "When operating on two arrays, NumPy compares their shapes element-wise. It starts with the trailing dimensions, and works its way forward. Two dimensions are compatible when\n",
    "\n",
    "* they are equal, or\n",
    "* one of them is 1\n",
    "\n",
    "If these conditions are not met, an ```ValueError```  is thrown"
   ]
  },
  {
   "cell_type": "code",
   "execution_count": 183,
   "metadata": {},
   "outputs": [],
   "source": [
    "values = np.ones((3,4))"
   ]
  },
  {
   "cell_type": "code",
   "execution_count": 184,
   "metadata": {},
   "outputs": [
    {
     "name": "stdout",
     "output_type": "stream",
     "text": [
      "Original array (3, 4)\n",
      "Array * scalar (3, 4)\n",
      "Array * array(1,4) (3, 4)\n",
      "Array * array(3,4) (3, 4)\n",
      "Array * array(1,1,4) (1, 3, 4)\n",
      "Array * array(4,1,1) (4, 3, 4)\n"
     ]
    }
   ],
   "source": [
    "print(\"Original array\", values.shape)\n",
    "print(\"Array * scalar\", (values * np.ones((1))).shape)\n",
    "print(\"Array * array(1,4)\", (values * np.ones((1,4))).shape)\n",
    "print(\"Array * array(3,4)\", (values * np.ones((3,4))).shape)\n",
    "print(\"Array * array(1,1,4)\", (values * np.ones((1,1,4))).shape)\n",
    "print(\"Array * array(4,1,1)\", (values * np.ones((4,1,1))).shape)\n"
   ]
  },
  {
   "cell_type": "code",
   "execution_count": 182,
   "metadata": {},
   "outputs": [
    {
     "data": {
      "text/plain": [
       "array([[[3., 3., 3.],\n",
       "        [3., 3., 3.]],\n",
       "\n",
       "       [[3., 3., 3.],\n",
       "        [3., 3., 3.]]])"
      ]
     },
     "execution_count": 182,
     "metadata": {},
     "output_type": "execute_result"
    }
   ],
   "source": [
    "np.ones((2,1,1)) + np.ones((3)) + np.ones((1,2,1)) "
   ]
  },
  {
   "cell_type": "code",
   "execution_count": 185,
   "metadata": {},
   "outputs": [
    {
     "ename": "ValueError",
     "evalue": "operands could not be broadcast together with shapes (3,4) (4,3) ",
     "output_type": "error",
     "traceback": [
      "\u001b[0;31m---------------------------------------------------------------------------\u001b[0m",
      "\u001b[0;31mValueError\u001b[0m                                Traceback (most recent call last)",
      "\u001b[0;32m<ipython-input-185-fb8ea98593e3>\u001b[0m in \u001b[0;36m<module>\u001b[0;34m\u001b[0m\n\u001b[0;32m----> 1\u001b[0;31m \u001b[0mnp\u001b[0m\u001b[0;34m.\u001b[0m\u001b[0mones\u001b[0m\u001b[0;34m(\u001b[0m\u001b[0;34m(\u001b[0m\u001b[0;36m3\u001b[0m\u001b[0;34m,\u001b[0m\u001b[0;36m4\u001b[0m\u001b[0;34m)\u001b[0m\u001b[0;34m)\u001b[0m \u001b[0;34m*\u001b[0m \u001b[0mnp\u001b[0m\u001b[0;34m.\u001b[0m\u001b[0mones\u001b[0m\u001b[0;34m(\u001b[0m\u001b[0;34m(\u001b[0m\u001b[0;36m4\u001b[0m\u001b[0;34m,\u001b[0m\u001b[0;36m3\u001b[0m\u001b[0;34m)\u001b[0m\u001b[0;34m)\u001b[0m\u001b[0;34m\u001b[0m\u001b[0;34m\u001b[0m\u001b[0m\n\u001b[0m",
      "\u001b[0;31mValueError\u001b[0m: operands could not be broadcast together with shapes (3,4) (4,3) "
     ]
    }
   ],
   "source": [
    "np.ones((3,4)) * np.ones((4,3))"
   ]
  },
  {
   "cell_type": "code",
   "execution_count": null,
   "metadata": {},
   "outputs": [],
   "source": []
  }
 ],
 "metadata": {
  "kernelspec": {
   "display_name": "Python 3",
   "language": "python",
   "name": "python3"
  },
  "language_info": {
   "codemirror_mode": {
    "name": "ipython",
    "version": 3
   },
   "file_extension": ".py",
   "mimetype": "text/x-python",
   "name": "python",
   "nbconvert_exporter": "python",
   "pygments_lexer": "ipython3",
   "version": "3.8.3"
  }
 },
 "nbformat": 4,
 "nbformat_minor": 4
}
