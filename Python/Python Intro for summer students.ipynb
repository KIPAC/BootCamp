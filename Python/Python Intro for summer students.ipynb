{
 "cells": [
  {
   "cell_type": "markdown",
   "metadata": {},
   "source": [
    "# Python introduction\n",
    "\n",
    "This is a condensed python introduction created initially for 2021 KIPAC summer research students. It borrows material from a number of other tutorials in [KIPAC computing boot camp](http://kipac.github.io/BootCamp), but is designed to be covered in a 90 minute bootcamp session. \n",
    "\n",
    "Authors: Jessie Muir and Sidney Mau, adapting content from noteboks by [Yao-Yuan Mao](http://yymao.github.io), [Sean McLaughlin](https://github.com/mclaughlin6464), [Joe DeRose](https://github.com/j-dr), Mike Baumer(https://mbaumer.github.io) as well as materials from [Emanuel Gull's short \"intro to python\" course](https://sites.lsa.umich.edu/gull-lab/teaching/physics-514-fall-2017/introduction-to-python/) at University of Michigan.\n",
    "\n",
    "*This section of the tutorial is adapted mostly from the \"Python (2)\" notebook in the [Python directory of the Bootcamp git repository](https://github.com/KIPAC/BootCamp/tree/master/Python), developed by  [Sean McLaughlin](https://github.com/mclaughlin6464)* and from the first two lectures of Emanuel Gull's lectures. "
   ]
  },
  {
   "cell_type": "markdown",
   "metadata": {},
   "source": [
    "### Keep in mind\n",
    "\n",
    "The goal of this tutorial is to give you a basic idea introduction Python. There are a lot of things to learn about Python and a lot of ways to use it, and we won't be able to cover everything in a 90 minute session. The goal here is to give you a flavor of some of the things that python can do, and enough vocabulary to give you a good start on googling effectively when you have questions. \n",
    "\n",
    "There are a lot of resources online for learning python, some of which are more simple and some more technical. The [Python.org website](https://docs.python.org/3.8/) has useful info, as well as [a nice list for beginners](https://wiki.python.org/moin/BeginnersGuide/NonProgrammers). This [Google tutorial](https://developers.google.com/edu/python/) is also a good resource."
   ]
  },
  {
   "cell_type": "markdown",
   "metadata": {},
   "source": [
    "---\n",
    "\n",
    "# 1. Getting started"
   ]
  },
  {
   "cell_type": "markdown",
   "metadata": {},
   "source": [
    "If you happen to be running Python 2.7 instead of Python 3, run this next cell (by hitting Shift+Enter). This should resolve some differences between those using the two. There may be a few others that arise, and I'll try to point them out as they come."
   ]
  },
  {
   "cell_type": "code",
   "execution_count": null,
   "metadata": {},
   "outputs": [],
   "source": [
    "from __future__ import print_function, division"
   ]
  },
  {
   "cell_type": "markdown",
   "metadata": {},
   "source": [
    "## 1.1 Ways of using Python\n",
    "\n",
    "We are using Jupyter notebooks for these tutorials, which lets us run code in cells. It is also possible to run python commands in your command line (terminal), or by calling a script. Except for a copule things that are specific to jupyter notebooks, any python code you might write would work the same in all three of these contexts."
   ]
  },
  {
   "cell_type": "markdown",
   "metadata": {},
   "source": [
    "#### Running python via command line\n",
    "\n",
    "You can run python in your terminal and execute commands from there. Because you have to type out each line and run them individually, generally this won't be useful for scientific computing beyond maybe some simple testing of how commands work.\n",
    "\n",
    "- Open your terminal, and type `python`. You should see some info about your python verison print out, and the prompt should change to `>>>`.\n",
    "\n",
    "- Try typing a simple math expression like `1+1` and hit enter. \n",
    "\n",
    "- Assign a variable by typing `x=3` and hit enter. If you then type `x` and hit enter, what happens? What about `x=x+1`?\n",
    "- Exit python and return to your usual command line prompt by pressing Ctrl+D or by typing `quit()`"
   ]
  },
  {
   "cell_type": "markdown",
   "metadata": {},
   "source": [
    "#### Running python with a script\n",
    "\n",
    "A Python script is just a file with a series of Python commands in it that you want to run in sequence. To see how this works:\n",
    "- In your terminal, navigate to a directory you want to work in (perhaps the `files_for_practice` directory you created during the previous sessions's [Unix tutorial](https://github.com/KIPAC/BootCamp/blob/master/Unix/Unix%20\(1\).ipynb)). \n",
    "- Use your preferred text editor to open a new file called `example_script.py`. (Note that the `.py` at the end of the filename identifies it as a Python script.)\n",
    "- In that file, paste in the following text and save the file. \n",
    "```\n",
    "print(\"Hello World!\")\n",
    "x = 3\n",
    "y = x\n",
    "print(\"The variable x is\",x,\"and y is\",y)\n",
    "x = x + 1\n",
    "print(\"Now x is\",x,\"and y is\",y)\n",
    "```\n",
    "- On your command line, run the script by typing `python example_script.py` and hitting enter. What happens?\n",
    "\n",
    "Using scripts to run python can be pretty useful for scientific python if you have a number of commands you want to be sure to run in the same order repeatedly, or if you want to define functions you want to be able to import and use when running other code. (More on that in a bit.)"
   ]
  },
  {
   "cell_type": "markdown",
   "metadata": {},
   "source": [
    "#### Running python in Jupyter notebooks\n",
    "\n",
    "You'll be doing this below! Jupyter notebooks provide an easy-to-use interface to Python. Jupyter notebooks have some similarities to how Mathematic works, if you've used that before. Throughout these tutorials we'll use Jupyter notebooks, and below we'll demosntrate how ot use them. "
   ]
  },
  {
   "cell_type": "markdown",
   "metadata": {},
   "source": [
    "## 1.2 Jupyter Notebook basics\n",
    "\n",
    "*This section of the tutorial is adapted from the \"Python (1)\" notebook in the [Python directory of the Bootcamp git repository](https://github.com/KIPAC/BootCamp/tree/master/Python).* \n",
    "\n",
    "If you could learn only one thing, it is that **pressing `Shift`+`Enter` executes the cell.**\n",
    "\n",
    "Try it out:"
   ]
  },
  {
   "cell_type": "code",
   "execution_count": null,
   "metadata": {},
   "outputs": [],
   "source": [
    "1+1"
   ]
  },
  {
   "cell_type": "markdown",
   "metadata": {},
   "source": [
    "`_#` (or `Out[#]`) refers to the corresponding output. (As in, you'd replace `#` with the number that shows up in `Out[#]:` to the left of one of your previously-run cell's outputs.) For example:"
   ]
  },
  {
   "cell_type": "code",
   "execution_count": null,
   "metadata": {},
   "outputs": [],
   "source": [
    "_1 + 1"
   ]
  },
  {
   "cell_type": "markdown",
   "metadata": {},
   "source": [
    "You can have multi-line code in one cell:"
   ]
  },
  {
   "cell_type": "code",
   "execution_count": null,
   "metadata": {},
   "outputs": [],
   "source": [
    "a = 1\n",
    "b = a + 1\n",
    "c = b + 2\n",
    "print(c)"
   ]
  },
  {
   "cell_type": "markdown",
   "metadata": {},
   "source": [
    "Variables defined in different cells are still accessiable."
   ]
  },
  {
   "cell_type": "code",
   "execution_count": null,
   "metadata": {},
   "outputs": [],
   "source": [
    "print(a)"
   ]
  },
  {
   "cell_type": "markdown",
   "metadata": {},
   "source": [
    "One thing to be careful about when running Jupyter notebooks is that the output can be affected by the order in which you run the cells. To see this, run the cell below, and then rerun the `print(a)` cell above. What happens?"
   ]
  },
  {
   "cell_type": "code",
   "execution_count": null,
   "metadata": {},
   "outputs": [],
   "source": [
    "a=4"
   ]
  },
  {
   "cell_type": "markdown",
   "metadata": {},
   "source": [
    "---\n",
    "## 1.3 Basic Python Syntax\n",
    "\n",
    "In Python, as opposed to computing languages like C++ or Java, \n",
    "- Each line needs to be a complete statment, unless broken by a backslash (\\). There are no semicolons (;) or other characters required to end a line. \n",
    "- Variables can be declared dynamically. \n",
    "- Nested statments are opened by colons (:), and the structures are specified by **indentation**. \n",
    "\n",
    "If you don't understand what any of this means, that's fine. You'll see examples below. \n",
    "\n",
    "Note that the equals sign `=` is used to assign a value (whatever is on its right-hand side) to a variable name (whatever is on the left hand side). If you want to check if two variables are equal to one another, you'll use `==` instead. For example:"
   ]
  },
  {
   "cell_type": "code",
   "execution_count": null,
   "metadata": {},
   "outputs": [],
   "source": [
    "x=1\n",
    "y=1\n",
    "y==x"
   ]
  },
  {
   "cell_type": "code",
   "execution_count": null,
   "metadata": {},
   "outputs": [],
   "source": [
    "x=x+1 # Update x to be equal whatever value is stored in x currently + 1\n",
    "y==x"
   ]
  },
  {
   "cell_type": "markdown",
   "metadata": {},
   "source": [
    "Note that variable names have to start with a letter, and that capital and lower-case letters are seen as different. "
   ]
  },
  {
   "cell_type": "code",
   "execution_count": null,
   "metadata": {
    "scrolled": true
   },
   "outputs": [],
   "source": [
    "apples=12\n",
    "Apples=4\n",
    "apples==Apples"
   ]
  },
  {
   "cell_type": "markdown",
   "metadata": {},
   "source": [
    "Avoid naming variables anything that is already a built-in python function, as that can cause errors in other code that uses that function. For example, it would be a bad idea to call a variable `print`. "
   ]
  },
  {
   "cell_type": "markdown",
   "metadata": {},
   "source": [
    "You have access to basic math operations:"
   ]
  },
  {
   "cell_type": "code",
   "execution_count": null,
   "metadata": {},
   "outputs": [],
   "source": [
    "#addition \n",
    "10+2"
   ]
  },
  {
   "cell_type": "code",
   "execution_count": null,
   "metadata": {},
   "outputs": [],
   "source": [
    "#subtraction \n",
    "10-2"
   ]
  },
  {
   "cell_type": "code",
   "execution_count": null,
   "metadata": {},
   "outputs": [],
   "source": [
    "#multiplication\n",
    "10*2"
   ]
  },
  {
   "cell_type": "code",
   "execution_count": null,
   "metadata": {},
   "outputs": [],
   "source": [
    "#division\n",
    "10/2"
   ]
  },
  {
   "cell_type": "code",
   "execution_count": null,
   "metadata": {},
   "outputs": [],
   "source": [
    "# exponentials\n",
    "10**2"
   ]
  },
  {
   "cell_type": "markdown",
   "metadata": {},
   "source": [
    "---\n",
    "# 2 Simple types\n",
    "\n",
    "All variables in python are dynamically typed; no declaraion necessary! Here are the built-in data types in python."
   ]
  },
  {
   "cell_type": "code",
   "execution_count": null,
   "metadata": {},
   "outputs": [],
   "source": [
    "#PSST. I'm a comment! I don't affect anything!\n",
    "#These are all 5 of the built-ins in pythonn\n",
    "x =1 #int (integer numbers)\n",
    "print(x)\n",
    "x = 2.2 #float (numbers with decimal points)\n",
    "print(x)\n",
    "x  = 1.0J #complex numbers\n",
    "print(x)\n",
    "x = 'STRANG' #string (array of characters)\n",
    "print(x)\n",
    "x = True #bool (True or False)\n",
    "print(x)"
   ]
  },
  {
   "cell_type": "markdown",
   "metadata": {},
   "source": [
    "Certain operations will cast (change) variables from one type to another; it's also possible to manually cast them. "
   ]
  },
  {
   "cell_type": "code",
   "execution_count": null,
   "metadata": {
    "scrolled": true
   },
   "outputs": [],
   "source": [
    "s= '10'\n",
    "print(s)\n",
    "y = int(s)\n",
    "print(y+10)\n",
    "print(y*3.0) #cast as float\n",
    "print(int(y))\n"
   ]
  },
  {
   "cell_type": "code",
   "execution_count": null,
   "metadata": {},
   "outputs": [],
   "source": [
    "# You can check on a type using \n",
    "print(\"Type of variable s:\",type(s))\n",
    "print(\"  is it a string?\",type(s)==str)\n",
    "print(\"  is it an integer?\",type(s)==int)"
   ]
  },
  {
   "cell_type": "markdown",
   "metadata": {},
   "source": [
    "Details on all of python's built-ins can be found [here](https://docs.python.org/3.8/library/stdtypes.html). I'm going to shy away from droning on about the details of the syntax; what you want to know you can look up there. I'll just make a few key mentions.\n",
    " * bools' are a subset of integers. When you cast `True` to an `int`, you get `1`. What do you think `False` does?\n",
    " * Most types have an interesting `bool` casting that can be used in control flow. A few examples are given below. Experiement with this a little and see if you can get a sense of how it works. \n",
    " "
   ]
  },
  {
   "cell_type": "code",
   "execution_count": null,
   "metadata": {},
   "outputs": [],
   "source": [
    "print(\"int(True):\",int(True))\n",
    "print(\"bool(19821):\",bool(19821))\n",
    "print(\"bool(\\\"hello\\\"):\",bool(\"hello\"))\n",
    "print(\"bool(\\\"\\\"):\",bool(\"\"))"
   ]
  },
  {
   "cell_type": "code",
   "execution_count": null,
   "metadata": {},
   "outputs": [],
   "source": []
  },
  {
   "cell_type": "markdown",
   "metadata": {},
   "source": [
    "## 2.2 More on strings\n",
    "\n",
    "Strings are different enought form the numeric types that they warrent a little bit of their own discussion. A string can be created using either double or single quotes. This can be used to insert the other into the string. Escapes are also possible: if you need an apostrophe or quotes in a string, you can type `\\'` or `\\\"`, and it will be interpreted as the character rather than the boundary of a string object. "
   ]
  },
  {
   "cell_type": "code",
   "execution_count": null,
   "metadata": {},
   "outputs": [],
   "source": [
    "print(\"I'm a string!\")\n",
    "print('I\\'m a string too!')"
   ]
  },
  {
   "cell_type": "markdown",
   "metadata": {},
   "source": [
    "One of the most important things with strings is formatting. This is done using brackets `{}` and formatting code with a particular syntax. Once again, details [here](https://docs.python.org/3/library/string.html#formatstrings). This is generally something you can look up how to do when you need it. Here's a few short examples of printing fancy strings."
   ]
  },
  {
   "cell_type": "code",
   "execution_count": null,
   "metadata": {},
   "outputs": [],
   "source": [
    "print(\"Look it's a one: {}\".format(1))\n",
    "print(\"Look it's a one followed by a float 2!: {0}, {1:f}\".format(1, 2.0) )\n",
    "pi = 3.141592653\n",
    "print(\"And finally, pi to 3 digits of precesion is {0:.3f}?\".format(pi) )"
   ]
  },
  {
   "cell_type": "markdown",
   "metadata": {},
   "source": [
    "One useful thing that can be done with strings is to use indices to refer to the different characters that they're made up of. \n",
    "- What do the different command below do? \n",
    "- Try adjusting the number in the square brackets to get a feel for what they do. \n",
    "- What happens if you put a negative number inside the brackets?\n",
    "- What happens if you try use a (a number with a decimal point)?"
   ]
  },
  {
   "cell_type": "code",
   "execution_count": null,
   "metadata": {},
   "outputs": [],
   "source": [
    "s = \"I am learning python! Isn't that great?\""
   ]
  },
  {
   "cell_type": "code",
   "execution_count": null,
   "metadata": {},
   "outputs": [],
   "source": [
    "s[0]"
   ]
  },
  {
   "cell_type": "code",
   "execution_count": null,
   "metadata": {
    "scrolled": true
   },
   "outputs": [],
   "source": [
    "s[1]"
   ]
  },
  {
   "cell_type": "code",
   "execution_count": null,
   "metadata": {},
   "outputs": [],
   "source": []
  },
  {
   "cell_type": "markdown",
   "metadata": {},
   "source": [
    "This is an example of indexing. Here the number in the square brackets is called the index. We can also do something called slicing if we include one or two colons (`:`) in the square brackets. \n",
    "- `s[a:b]` means \"give me the characters in s starting at index a up to index b\"\n",
    "- `s[:b]` means \"give me the characters in s starting at the beginning, up to index b\"\n",
    "- `s[a:b:c]` means \"give me every c-th character in s starting at index a up to index b\" (As in, if c=2 you get every other character, c=3 gives every third, etc)\n",
    "\n",
    "Try experimenting with this below:"
   ]
  },
  {
   "cell_type": "code",
   "execution_count": null,
   "metadata": {},
   "outputs": [],
   "source": [
    "s[4:]"
   ]
  },
  {
   "cell_type": "code",
   "execution_count": null,
   "metadata": {},
   "outputs": [],
   "source": [
    "s[4:9]"
   ]
  },
  {
   "cell_type": "code",
   "execution_count": null,
   "metadata": {},
   "outputs": [],
   "source": [
    "s[::2]"
   ]
  },
  {
   "cell_type": "raw",
   "metadata": {},
   "source": [
    "There are a lot of useful methods for manipulating strings. There are [a list of them here](https://docs.python.org/3.8/library/stdtypes.html#string-methods). Here are a couple examples:"
   ]
  },
  {
   "cell_type": "code",
   "execution_count": null,
   "metadata": {},
   "outputs": [],
   "source": [
    "# length of the string\n",
    "len(s)"
   ]
  },
  {
   "cell_type": "code",
   "execution_count": null,
   "metadata": {
    "scrolled": true
   },
   "outputs": [],
   "source": [
    "# split the string at space characters, returning a list of the pieces. \n",
    "#  (There will be more info on lists below.)\n",
    "s.split()"
   ]
  },
  {
   "cell_type": "code",
   "execution_count": null,
   "metadata": {},
   "outputs": [],
   "source": [
    "# replace one string with another, wherever it appears\n",
    "s.replace(\"am learning\",\"know\")\n"
   ]
  },
  {
   "cell_type": "markdown",
   "metadata": {},
   "source": [
    "---\n",
    "# 3  Importing modules\n",
    "\n",
    "There are a ton of libraries of useful python tools available that are bundled into what are called **modules**. By importing a module you can access those tools. For example, there is a math module which contains some useful numbers and math operations:"
   ]
  },
  {
   "cell_type": "code",
   "execution_count": null,
   "metadata": {},
   "outputs": [],
   "source": [
    "import math\n",
    "math.pi"
   ]
  },
  {
   "cell_type": "code",
   "execution_count": null,
   "metadata": {},
   "outputs": [],
   "source": [
    "math.e"
   ]
  },
  {
   "cell_type": "code",
   "execution_count": null,
   "metadata": {
    "scrolled": true
   },
   "outputs": [],
   "source": [
    "# square roots! \n",
    "math.sqrt(2)"
   ]
  },
  {
   "cell_type": "markdown",
   "metadata": {},
   "source": [
    "To get helpful info about the contents of a module like math, you can use `help`:"
   ]
  },
  {
   "cell_type": "code",
   "execution_count": null,
   "metadata": {},
   "outputs": [],
   "source": [
    "help(math)"
   ]
  },
  {
   "cell_type": "markdown",
   "metadata": {},
   "source": [
    "Sometimes it makes sense to import a module but give it another name,"
   ]
  },
  {
   "cell_type": "code",
   "execution_count": null,
   "metadata": {},
   "outputs": [],
   "source": [
    "import numpy as np #Numpy is a really useful module for scientific computing! We'll learn more about it later.\n",
    "np.sqrt(3) # numpy also has a square root function"
   ]
  },
  {
   "cell_type": "markdown",
   "metadata": {},
   "source": [
    "If we just need one function from a module, we can just import that:"
   ]
  },
  {
   "cell_type": "code",
   "execution_count": null,
   "metadata": {},
   "outputs": [],
   "source": [
    "from numpy import sqrt\n",
    "sqrt(3)"
   ]
  },
  {
   "cell_type": "markdown",
   "metadata": {},
   "source": [
    "Sometimes we'll import submodules using a period in the module name, like this:"
   ]
  },
  {
   "cell_type": "code",
   "execution_count": null,
   "metadata": {},
   "outputs": [],
   "source": [
    "import matplotlib.pyplot as plt # this is a module used for making plots\n",
    "from scipy.interpolate import interp1d # this is a useful function for interpolating \n",
    "# We'll talk more about these modules later"
   ]
  },
  {
   "cell_type": "markdown",
   "metadata": {},
   "source": [
    "---\n",
    "# 4. Container types\n",
    "Now that you know all there is to know about the basics, you can put them places! There are four container types in python:\n",
    " * lists\n",
    " * dictionaries\n",
    " * tuples\n",
    " * sets\n",
    "\n",
    " \n",
    "They have a lot of similarities, but let's break them down one by one.\n",
    "\n",
    "## 4.1 Lists\n",
    "Lists are what their name suggests: an ordered list of pieces of data.  You can define a list by putting numbers or other data inside square brackets, with entries separated by commas. Lists can hold data of any type. \n",
    "\n",
    "They're usually used to hold data of the same type, like the names of the files in a directory or data from voltage source. However, they can hold data of any type. Look!"
   ]
  },
  {
   "cell_type": "code",
   "execution_count": null,
   "metadata": {},
   "outputs": [],
   "source": [
    "x = [1,2,3,4,5,6]\n",
    "y = ['potato', 3, True, 89.6]\n",
    "print(type(x),x)\n",
    "print(type(y),y)"
   ]
  },
  {
   "cell_type": "code",
   "execution_count": null,
   "metadata": {},
   "outputs": [],
   "source": []
  },
  {
   "cell_type": "markdown",
   "metadata": {},
   "source": [
    "Note that we can make lists of lists. (Note though, if you want to do matrix algebra or store big lists or grids of numbers, you'll want to use numpy arrays instead of lists. We'll get to that later.)"
   ]
  },
  {
   "cell_type": "code",
   "execution_count": null,
   "metadata": {},
   "outputs": [],
   "source": [
    "Z = [[1,2,3],[4,5,6]]"
   ]
  },
  {
   "cell_type": "code",
   "execution_count": null,
   "metadata": {
    "scrolled": false
   },
   "outputs": [],
   "source": [
    "Z[0][0] # first item in the first list"
   ]
  },
  {
   "cell_type": "code",
   "execution_count": null,
   "metadata": {},
   "outputs": [],
   "source": [
    "Z[1][0] # first item in the second list"
   ]
  },
  {
   "cell_type": "markdown",
   "metadata": {},
   "source": [
    "Lists are also dynamically sized, which means we can change the number of entries in them on the fly. "
   ]
  },
  {
   "cell_type": "code",
   "execution_count": null,
   "metadata": {
    "scrolled": false
   },
   "outputs": [],
   "source": [
    "x = [] #this is how you define an empty list\n",
    "x.append(1) #add this to the end of the list\n",
    "print(x)\n",
    "x.extend([2,3,4]) \n",
    "x.append('I LOVE APPENDING')\n",
    "print(x)"
   ]
  },
  {
   "cell_type": "markdown",
   "metadata": {},
   "source": [
    "Like strings, there are a ton of built-in methods for manipulating lists. [Here a list of them.](https://docs.python.org/3.8/tutorial/datastructures.html) \n",
    "\n",
    "One very useful tool is using `in` to see of an item is in a list:"
   ]
  },
  {
   "cell_type": "code",
   "execution_count": null,
   "metadata": {},
   "outputs": [],
   "source": [
    "3 in x"
   ]
  },
  {
   "cell_type": "code",
   "execution_count": null,
   "metadata": {},
   "outputs": [],
   "source": [
    "5 in x"
   ]
  },
  {
   "cell_type": "code",
   "execution_count": null,
   "metadata": {},
   "outputs": [],
   "source": [
    "'I LOVE APPENDING' in x"
   ]
  },
  {
   "cell_type": "code",
   "execution_count": null,
   "metadata": {},
   "outputs": [],
   "source": [
    "# note if there are strings or containers in the list, in looks at the whole object, not pieces of it\n",
    "'LOVE' in x"
   ]
  },
  {
   "cell_type": "markdown",
   "metadata": {},
   "source": [
    "\n",
    "\n",
    "Also like strings, we can access the elements of lists using indices and slicing (with `:`). Here are a few things you can try below:\n",
    "- Can you print out every other entry in the list `x` defined above?\n",
    "- Which index correponds to the first entry in the array? That is, if you type `x[i]`, what value of `i` gives you `1`? How about the third entry?\n",
    "- Use slicing to print out the first three items in the list.\n",
    "- use `len()` to print the length of the list."
   ]
  },
  {
   "cell_type": "code",
   "execution_count": null,
   "metadata": {},
   "outputs": [],
   "source": []
  },
  {
   "cell_type": "markdown",
   "metadata": {},
   "source": [
    "One thing to be aware of with lits is that they are what is called **mutable**. Exactly what this means is related to how variable names are related to their associatd data. This is worth looking up and reading a little more about if you're interested! \n",
    "\n",
    "For now though, basically it just means performing an operation on a list will change it, and we have to be careful if we're setting multiple variable names refer to the same list. For example, say we create a list `x`, make a list `y` equal to `x`, and then want to change one of the entries of `y`. What happens?"
   ]
  },
  {
   "cell_type": "code",
   "execution_count": null,
   "metadata": {},
   "outputs": [],
   "source": [
    "x = ['a','b','c']\n",
    "y = x \n",
    "print(x,y,x==y)\n",
    "\n",
    "y[2]='Z' # replace whatever item is at list index 2 with the string 'Z'\n",
    "print(x,y,x==y)"
   ]
  },
  {
   "cell_type": "markdown",
   "metadata": {},
   "source": [
    "In contrast, strings in python are **immutable**. Let's compare this to what happens when we do a string operation. What's different here? "
   ]
  },
  {
   "cell_type": "code",
   "execution_count": null,
   "metadata": {},
   "outputs": [],
   "source": [
    "x = 'abc'\n",
    "y = x\n",
    "print(x,y,x==y)\n",
    "\n",
    "y=y.replace(y[2],'Z') #replace whatever character is at index 2 with 'Z'\n",
    "print(x,y,x==y)"
   ]
  },
  {
   "cell_type": "markdown",
   "metadata": {},
   "source": [
    "Sometimes this mutable list behavior might be what you want to happen want! But often it isn't. There are a couple of work-arounds."
   ]
  },
  {
   "cell_type": "code",
   "execution_count": null,
   "metadata": {},
   "outputs": [],
   "source": [
    "# you can use a copy function\n",
    "x = ['a','b','c']\n",
    "y = x.copy()\n",
    "y[2]='Z' # replace whatever item is at list index 2 with the string 'Z'\n",
    "print(x,y,x==y)"
   ]
  },
  {
   "cell_type": "code",
   "execution_count": null,
   "metadata": {},
   "outputs": [],
   "source": [
    "# Slicing can be used to copy a list\n",
    "x = ['a','b','c']\n",
    "y = x[:]\n",
    "y[2]='Z' # replace whatever item is at list index 2 with the string 'Z'\n",
    "print(x,y,x==y)"
   ]
  },
  {
   "cell_type": "markdown",
   "metadata": {},
   "source": [
    "---\n",
    "## 4.2 dictionaries\n",
    "\n",
    "Dictionaries type which map a key to a value. The key must be immutable, but values need not be. They have a variety of uses! They're defined with brackets `{}` like this:"
   ]
  },
  {
   "cell_type": "code",
   "execution_count": null,
   "metadata": {},
   "outputs": [],
   "source": [
    "info = {'day':'Thursday','temperature':75.2,'month':6,'onzoom':True,'topics':['python','unix','coffee']}"
   ]
  },
  {
   "cell_type": "markdown",
   "metadata": {},
   "source": [
    "You can access items stored in a dictionary using keys like this"
   ]
  },
  {
   "cell_type": "code",
   "execution_count": null,
   "metadata": {},
   "outputs": [],
   "source": [
    "info['day']"
   ]
  },
  {
   "cell_type": "markdown",
   "metadata": {},
   "source": [
    "You can change the value associated with a key, and add additional key-value pairs like this:"
   ]
  },
  {
   "cell_type": "code",
   "execution_count": null,
   "metadata": {},
   "outputs": [],
   "source": [
    "info['temperature'] = 80\n",
    "print(info)"
   ]
  },
  {
   "cell_type": "code",
   "execution_count": null,
   "metadata": {},
   "outputs": [],
   "source": [
    "info['instructor'] = 'jessie'\n",
    "print(info)"
   ]
  },
  {
   "cell_type": "markdown",
   "metadata": {},
   "source": [
    "Like strings and lists, there are a bunch of built-in methods for interacting with dictionaries. One very useful thing is to get a list of all the dictionary's keys:"
   ]
  },
  {
   "cell_type": "code",
   "execution_count": null,
   "metadata": {},
   "outputs": [],
   "source": [
    "info.keys()"
   ]
  },
  {
   "cell_type": "markdown",
   "metadata": {},
   "source": [
    "Some things to try out:\n",
    "- What happens if you try use a key that doesn't exist?\n",
    "- Append the string `\"dictionaries\"` to the list of topics (with key `topics`) in the `info` dictionary. \n",
    "- Add a new key-value pair to `info`"
   ]
  },
  {
   "cell_type": "code",
   "execution_count": null,
   "metadata": {},
   "outputs": [],
   "source": []
  },
  {
   "cell_type": "markdown",
   "metadata": {},
   "source": [
    "## 4.3 tuples and sets"
   ]
  },
  {
   "cell_type": "markdown",
   "metadata": {},
   "source": [
    "Tuples and sets are two other container types that we won't spend as much time on here. \n",
    "\n",
    "\n",
    "Tuples are similar to lists, in that they can hold an order array of different types of data, but they are different in one important way:  tuples are **immutable**. Once they're set, they can't be changed. They are defined with parentheses `()` rather than lists' square brackets `[]`. \n",
    "\n",
    "This property of tuples allow them to be used in particular ways, e.g. in how python functions (we'll get to that soon) return numberes. It also means that tuples can be used as dictionary keys. "
   ]
  },
  {
   "cell_type": "code",
   "execution_count": null,
   "metadata": {
    "scrolled": true
   },
   "outputs": [],
   "source": [
    "tup = (1,2,3,4,5)\n",
    "print(tup[0]) #1st elem\n",
    "print(len(tup)) #length\n",
    "tup[0] = -1#modify"
   ]
  },
  {
   "cell_type": "markdown",
   "metadata": {},
   "source": [
    "That last line should return an error: we can't change the values of items in a tuple! "
   ]
  },
  {
   "cell_type": "code",
   "execution_count": null,
   "metadata": {},
   "outputs": [],
   "source": [
    "info[]"
   ]
  },
  {
   "cell_type": "markdown",
   "metadata": {},
   "source": [
    "Sets behave like logical sets:"
   ]
  },
  {
   "cell_type": "code",
   "execution_count": null,
   "metadata": {
    "scrolled": true
   },
   "outputs": [],
   "source": [
    "a = set([1,2,2,3]) #a is the set of unique values in this list\n",
    "b = set([3,4,5])\n",
    "print('a',a)\n",
    "print('b',b)\n",
    "print(a | b) #a U b (union of sets a and b)\n",
    "print(a & b) # a intersect b (values in both a and b)\n",
    "print(a-b) #a-b #(values in a but not b)\n",
    "a.add(1) #add an element already in a\n",
    "print(a) #duplicates not allowed\n",
    "print(1 in a, 1 in b) #check for membership"
   ]
  },
  {
   "cell_type": "markdown",
   "metadata": {},
   "source": [
    "They can only store immutable objects. The most important thing to know about sets is that it is very time-efficient to check whether a value is in a set. That is to say: Suppose we have a list `testlist` containing N values, and a set `testset` containing N values, and want to check of a given number `x` is in `testlist` and `testset`. The time it will take to run \n",
    "```\n",
    "x in testlist\n",
    "```\n",
    "will scale linearly with N, while the time to do\n",
    "```\n",
    "x in testset\n",
    "```\n",
    "will take the same amount of time whether N is 10 or 10 million. "
   ]
  },
  {
   "cell_type": "markdown",
   "metadata": {},
   "source": [
    "---"
   ]
  },
  {
   "cell_type": "markdown",
   "metadata": {},
   "source": [
    "# 5. Flow control"
   ]
  },
  {
   "cell_type": "markdown",
   "metadata": {},
   "source": [
    "## 5.1 Booleans and comparisons\n",
    "\n",
    "We saw bools above in the section on simple types: bools are a type of variable that can hold values of either True or False. As we saw in a few places above, when we compare two variables using `==`, the operation returns a bool. There are other comparisons we can make:"
   ]
  },
  {
   "cell_type": "code",
   "execution_count": null,
   "metadata": {},
   "outputs": [],
   "source": [
    "a = 2\n",
    "b = 4\n",
    "c=2"
   ]
  },
  {
   "cell_type": "code",
   "execution_count": null,
   "metadata": {
    "scrolled": true
   },
   "outputs": [],
   "source": [
    "a==b"
   ]
  },
  {
   "cell_type": "code",
   "execution_count": null,
   "metadata": {},
   "outputs": [],
   "source": [
    "a>b"
   ]
  },
  {
   "cell_type": "code",
   "execution_count": null,
   "metadata": {},
   "outputs": [],
   "source": [
    "a<b"
   ]
  },
  {
   "cell_type": "code",
   "execution_count": null,
   "metadata": {},
   "outputs": [],
   "source": [
    "a<c"
   ]
  },
  {
   "cell_type": "code",
   "execution_count": null,
   "metadata": {},
   "outputs": [],
   "source": [
    "a<=c"
   ]
  },
  {
   "cell_type": "markdown",
   "metadata": {},
   "source": [
    "We can also use the words `and`, `or`, and `not` to do comparisons. For example:\n"
   ]
  },
  {
   "cell_type": "code",
   "execution_count": null,
   "metadata": {},
   "outputs": [],
   "source": [
    "a<b and a<c"
   ]
  },
  {
   "cell_type": "code",
   "execution_count": null,
   "metadata": {},
   "outputs": [],
   "source": [
    "not (a<c)"
   ]
  },
  {
   "cell_type": "markdown",
   "metadata": {},
   "source": [
    "Experiment with this a bit! What happens when you use `and` vs `or` and different comparisons between the variables a, b, and c?"
   ]
  },
  {
   "cell_type": "code",
   "execution_count": null,
   "metadata": {},
   "outputs": [],
   "source": []
  },
  {
   "cell_type": "markdown",
   "metadata": {},
   "source": [
    "## 5.2 Conditional statements: if, elif and else\n",
    "\n",
    "We can put these comparisons to work using conditional statements. Note the syntax here -- indentation matters! \n",
    "```\n",
    "if bool_1:\n",
    "    Some code that gets called if bool_1==True\n",
    "elif [bool_2]:\n",
    "    Different code taht gets called if bool_1 was False but bool_2 is True\n",
    "else:\n",
    "    What happens if all the bools in if statements above were false\n",
    "```\n",
    "We can next if statements to get finer control. Here's an example below. "
   ]
  },
  {
   "cell_type": "code",
   "execution_count": null,
   "metadata": {},
   "outputs": [],
   "source": [
    "\n",
    "# set some bool variables\n",
    "# Experiment with changing these from True to false to make sure you understand what is happening below!\n",
    "drink = True\n",
    "ishot = False\n",
    "isfizzy=True\n",
    "\n",
    "if drink:\n",
    "    if ishot:\n",
    "        print(\"coffee\")\n",
    "    elif isfizzy:\n",
    "        print(\"lacroix\")\n",
    "    else:\n",
    "        print('water')\n",
    "else:\n",
    "    if ishot:\n",
    "        print(\"spaghetti\")\n",
    "    else:\n",
    "        print(\"icecream\")"
   ]
  },
  {
   "cell_type": "markdown",
   "metadata": {},
   "source": [
    "## 5.3 *while*  and *for* loops"
   ]
  },
  {
   "cell_type": "markdown",
   "metadata": {},
   "source": [
    "We use loops when we want to repeat the same section of code several times. In python there are two ways of setting up loops. \n",
    "\n",
    "While loops are set up like this:"
   ]
  },
  {
   "cell_type": "code",
   "execution_count": null,
   "metadata": {},
   "outputs": [],
   "source": [
    "x=4\n",
    "while x<10:\n",
    "    x = x+1\n",
    "    print(x)"
   ]
  },
  {
   "cell_type": "markdown",
   "metadata": {},
   "source": [
    "That is, the structure is\n",
    "```\n",
    "while some_bool:\n",
    "    code to run if some_bool is true\n",
    "```\n",
    "\n",
    "Note here that it is important to make sure that whatever code your in inside the while loop is able at some point to change the bool evaluated at the top of the loop (in the while statement) to be False. Otherwise your code can get caught in an infinite loop.\n",
    "\n",
    "Note that if you do accidentally make an infinite loop, you can kill the code by:\n",
    "- using Ctrl+D if you're running python using as script or via command line\n",
    "- If you're running code in a jupyter notebook, click on `kernel->interrupt` in the menu. "
   ]
  },
  {
   "cell_type": "markdown",
   "metadata": {},
   "source": [
    "For loops iterate through items in container objects. They're most commonly used with lists, but they can also work with strings, tuples, etc. Note that a useful tool here is the `range` function, which produces an iterator that moves through integer numbers:"
   ]
  },
  {
   "cell_type": "code",
   "execution_count": null,
   "metadata": {},
   "outputs": [],
   "source": [
    "for i in range(5):\n",
    "    print(i)"
   ]
  },
  {
   "cell_type": "markdown",
   "metadata": {},
   "source": [
    "We can use loops and if statements together. "
   ]
  },
  {
   "cell_type": "code",
   "execution_count": null,
   "metadata": {},
   "outputs": [],
   "source": [
    "for i in range(5):\n",
    "#for i in range(5)\n",
    "    if i ==2:\n",
    "        print('It\\'s 2!')\n",
    "    elif i==4:\n",
    "        print('It\\'s 4!')\n",
    "    else:\n",
    "        print('It isn\\'t either!')"
   ]
  },
  {
   "cell_type": "markdown",
   "metadata": {},
   "source": [
    "Something worth mentioning is that if,else,elif and while all evaluate an object's `bool()` method. Certain objects have interesting bools, which can be put to use. \n",
    "\n",
    "For example, an empty list is false, but anything else is true.  "
   ]
  },
  {
   "cell_type": "code",
   "execution_count": null,
   "metadata": {},
   "outputs": [],
   "source": [
    "shoppingList = ['milk','eggs','beer','tofu','beer']\n",
    "print(bool(shoppingList))\n",
    "print(bool([]))"
   ]
  },
  {
   "cell_type": "markdown",
   "metadata": {},
   "source": [
    "There are two other useful keywords that can control flow in loops, `break` and `continue`. \n",
    "\n",
    "`break` causes the code to exit the loop, and move on to whatever the next non-indented code is. \n",
    "`continue` causes the code to skip the rest of the current iteration and start at the top of the indented code on the next iteration. "
   ]
  },
  {
   "cell_type": "code",
   "execution_count": null,
   "metadata": {},
   "outputs": [],
   "source": [
    "shoppingList = ['milk','chicken','tofu','beer','beer']\n",
    "bought = set()\n",
    "vegetarian = True\n",
    "while(shoppingList):\n",
    "    item = shoppingList.pop() #get the last item from the list\n",
    "    if item == 'chicken' and vegetarian:\n",
    "        break #quit shopping\n",
    "    if item in bought: #already purchased, don't buy again\n",
    "        continue\n",
    "    bought.add(item)\n",
    "    print(bought, shoppingList)\n"
   ]
  },
  {
   "cell_type": "markdown",
   "metadata": {},
   "source": [
    "Note you can set up for lists easily by doing this:"
   ]
  },
  {
   "cell_type": "code",
   "execution_count": null,
   "metadata": {
    "scrolled": true
   },
   "outputs": [],
   "source": [
    "shoppingList = ['milk','chicken','tofu','beer','beer']\n",
    "for item in shoppingList:\n",
    "    print(item)"
   ]
  },
  {
   "cell_type": "markdown",
   "metadata": {},
   "source": [
    "If you want to keep track of the index of the items you're interating through, you can use `enumerate`"
   ]
  },
  {
   "cell_type": "code",
   "execution_count": null,
   "metadata": {
    "scrolled": true
   },
   "outputs": [],
   "source": [
    "shoppingList = ['milk','chicken','tofu','beer','beer']\n",
    "for index,item in enumerate(shoppingList):\n",
    "    print(index,item)"
   ]
  },
  {
   "cell_type": "markdown",
   "metadata": {},
   "source": [
    "# 6 Functions"
   ]
  },
  {
   "cell_type": "markdown",
   "metadata": {},
   "source": [
    "If you find yourself copy and pasting a block of code, and changing it slightly to do do similar tasks, chances are you should be defining a function instead! Functions in python are defined like this:\n",
    "\n",
    "```\n",
    "def function_name( argument1, argument2,...argumentN):\n",
    "    [code to run when function is called[\n",
    "    return [whatever the function result is]\n",
    "```\n",
    "\n",
    "Here are a few examples."
   ]
  },
  {
   "cell_type": "code",
   "execution_count": null,
   "metadata": {},
   "outputs": [],
   "source": [
    "# here we're defining two functions\n",
    "def square(x):\n",
    "    # if we call this function, it will execute \n",
    "    result = x**2\n",
    "    return result\n",
    "\n",
    "def sum_squares(x,y=0):\n",
    "    # here, y has a default value of 0. This means that this function\n",
    "    # can be called with just one argument. If a second argument isn't passed\n",
    "    # y will be set equal to it's default value,0\n",
    "    return x**2 + y**2\n",
    "\n",
    "def sum_squares_list(x):\n",
    "    \"\"\"\n",
    "    Function that sums the squares of items in a list. \n",
    "    \n",
    "    Inputs:\n",
    "    x - list of numbers\n",
    "    \n",
    "    outputs - value of sum of the squares \n",
    "    \n",
    "    This comment in triple quotes is called a docstring. \n",
    "    It's good practice when you write functions to\n",
    "    add a docstring describing what it does. \n",
    "    \"\"\"\n",
    "    result = 0\n",
    "    for item in x:\n",
    "        result += item**2\n",
    "    return result"
   ]
  },
  {
   "cell_type": "code",
   "execution_count": null,
   "metadata": {
    "scrolled": true
   },
   "outputs": [],
   "source": [
    "square(2)"
   ]
  },
  {
   "cell_type": "code",
   "execution_count": null,
   "metadata": {
    "scrolled": true
   },
   "outputs": [],
   "source": [
    "sum_squares(2)"
   ]
  },
  {
   "cell_type": "code",
   "execution_count": null,
   "metadata": {},
   "outputs": [],
   "source": [
    "sum_squares(2,3)"
   ]
  },
  {
   "cell_type": "code",
   "execution_count": null,
   "metadata": {},
   "outputs": [],
   "source": [
    "sum_squares_list([2,3])"
   ]
  },
  {
   "cell_type": "markdown",
   "metadata": {},
   "source": [
    "Note that a function doesn't have to return anything, it can just do a task:"
   ]
  },
  {
   "cell_type": "code",
   "execution_count": null,
   "metadata": {},
   "outputs": [],
   "source": [
    "def beexcited(yellthis):\n",
    "    print(yellthis.upper()+\"!!!\")"
   ]
  },
  {
   "cell_type": "code",
   "execution_count": null,
   "metadata": {},
   "outputs": [],
   "source": [
    "x = 'cats'\n",
    "beexcited(x)"
   ]
  },
  {
   "cell_type": "markdown",
   "metadata": {},
   "source": [
    "---\n",
    "# Thing we're not covering here"
   ]
  },
  {
   "cell_type": "markdown",
   "metadata": {},
   "source": [
    "Other function related topics we haven't covered here but could be useful to read about if you'e interested:\n",
    "* reading and writing text files  \n",
    "* recursion - Functions can call themselves!\n",
    "* variable scope - If the same variable name gets used as an argument in a funciton definition, and is used for another purpose elsewhere in the code, which value gets used?\n",
    "* classes and object oriented python\n",
    "* anonymous `lambda` functions\n",
    "* loading `.py` files as modules. E.g. You can define functions in a script and the use them in a jupyter notebook. \n"
   ]
  },
  {
   "cell_type": "code",
   "execution_count": null,
   "metadata": {},
   "outputs": [],
   "source": []
  }
 ],
 "metadata": {
  "kernelspec": {
   "display_name": "Python 3",
   "language": "python",
   "name": "python3"
  },
  "language_info": {
   "codemirror_mode": {
    "name": "ipython",
    "version": 3
   },
   "file_extension": ".py",
   "mimetype": "text/x-python",
   "name": "python",
   "nbconvert_exporter": "python",
   "pygments_lexer": "ipython3",
   "version": "3.7.6"
  }
 },
 "nbformat": 4,
 "nbformat_minor": 4
}
