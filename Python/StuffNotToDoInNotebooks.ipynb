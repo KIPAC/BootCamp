{
 "cells": [
  {
   "cell_type": "code",
   "execution_count": 41,
   "metadata": {},
   "outputs": [],
   "source": [
    "import numpy as np"
   ]
  },
  {
   "cell_type": "markdown",
   "metadata": {},
   "source": [
    "### you can execute cells in any order, that doesn't mean that you should\n",
    "\n",
    "What's more, when you save a notebook, it saves all the variables from all the cells, which is dangerous b/c you don't know what got left around the last time you ran it."
   ]
  },
  {
   "cell_type": "markdown",
   "metadata": {},
   "source": [
    "#### Execute this cell third"
   ]
  },
  {
   "cell_type": "markdown",
   "metadata": {},
   "source": [
    "#### Execute this cell first"
   ]
  },
  {
   "cell_type": "code",
   "execution_count": 56,
   "metadata": {},
   "outputs": [],
   "source": [
    "v = 3"
   ]
  },
  {
   "cell_type": "markdown",
   "metadata": {},
   "source": [
    "#### Execute this cell second"
   ]
  },
  {
   "cell_type": "code",
   "execution_count": 57,
   "metadata": {},
   "outputs": [],
   "source": [
    "v = 2*v"
   ]
  },
  {
   "cell_type": "markdown",
   "metadata": {},
   "source": [
    "#### Execute this cell fourth"
   ]
  },
  {
   "cell_type": "code",
   "execution_count": 61,
   "metadata": {},
   "outputs": [],
   "source": [
    "x = v*x"
   ]
  },
  {
   "cell_type": "code",
   "execution_count": 62,
   "metadata": {},
   "outputs": [
    {
     "name": "stdout",
     "output_type": "stream",
     "text": [
      "216\n"
     ]
    }
   ],
   "source": [
    "print(x)"
   ]
  },
  {
   "cell_type": "markdown",
   "metadata": {},
   "source": [
    "## If you happen to use a global variable in a function it can be hard to catch"
   ]
  },
  {
   "cell_type": "code",
   "execution_count": 49,
   "metadata": {},
   "outputs": [],
   "source": [
    "def cos_x(val):\n",
    "    return np.cos(x)"
   ]
  },
  {
   "cell_type": "code",
   "execution_count": 50,
   "metadata": {},
   "outputs": [
    {
     "name": "stdout",
     "output_type": "stream",
     "text": [
      "-0.7179850839697137\n",
      "-0.7179850839697137\n",
      "-0.7179850839697137\n",
      "-0.7179850839697137\n",
      "-0.7179850839697137\n"
     ]
    }
   ],
   "source": [
    "for val in np.linspace(0, 2*np.pi, 5):\n",
    "    print(cos_x(val))"
   ]
  },
  {
   "cell_type": "code",
   "execution_count": 51,
   "metadata": {},
   "outputs": [
    {
     "name": "stdout",
     "output_type": "stream",
     "text": [
      "-0.7179850839697137\n",
      "-0.7179850839697137\n",
      "-0.7179850839697137\n",
      "-0.7179850839697137\n",
      "-0.7179850839697137\n"
     ]
    }
   ],
   "source": [
    "for val in np.linspace(0, 2*np.pi, 5):\n",
    "    print(np.cos(x))"
   ]
  },
  {
   "cell_type": "markdown",
   "metadata": {},
   "source": [
    "### you can't import functions from other notebooks\n",
    "\n",
    "So, if you copy a function to another notebook, then fix or change it, you will have inconsistent versions"
   ]
  },
  {
   "cell_type": "code",
   "execution_count": 63,
   "metadata": {},
   "outputs": [],
   "source": [
    "# this fixes this notebook, but not any other notebook where I had the same typo\n",
    "def cos_x(val):\n",
    "    return np.cos(val)"
   ]
  },
  {
   "cell_type": "markdown",
   "metadata": {},
   "source": [
    "### It can be hard to catch awkard bugs in python"
   ]
  },
  {
   "cell_type": "code",
   "execution_count": 64,
   "metadata": {},
   "outputs": [
    {
     "name": "stdout",
     "output_type": "stream",
     "text": [
      "0.0\n"
     ]
    }
   ],
   "source": [
    "class SimpleVector:\n",
    "    def __init__(self, n, name=\"vect\"):\n",
    "        self._vals = np.zeros((n))\n",
    "        self._name = name\n",
    "    def set_value(self, i, val):\n",
    "        self._vals[i] = val\n",
    "    def get_value(self, i):\n",
    "        return self._vals[i]\n",
    "    def data(self):\n",
    "        return self._vals\n",
    "    def dangerous(self, name, vals=None):\n",
    "        if vals is None:\n",
    "            vals = name\n",
    "        self._vals = vals\n",
    "        self._name = name\n",
    "my_vect = SimpleVector(5)\n",
    "print(my_vect.get_value(3))"
   ]
  },
  {
   "cell_type": "code",
   "execution_count": 65,
   "metadata": {},
   "outputs": [
    {
     "name": "stdout",
     "output_type": "stream",
     "text": [
      "1.0\n",
      "t\n"
     ]
    }
   ],
   "source": [
    "my_vect.dangerous(np.ones((5)))\n",
    "print(my_vect.get_value(3))\n",
    "my_vect.dangerous(\"vect\")\n",
    "print(my_vect.get_value(3))"
   ]
  },
  {
   "cell_type": "markdown",
   "metadata": {},
   "source": [
    "### Passing arguments to notebooks still awkard.  \n",
    "\n",
    "You can do things like read files, or have a cell with a bunch of input parameters you change each time you run, or pick up environmental variables, but you can do all of this, and more, in regular python"
   ]
  },
  {
   "cell_type": "markdown",
   "metadata": {},
   "source": [
    "## Moving away from notebooks"
   ]
  },
  {
   "cell_type": "markdown",
   "metadata": {},
   "source": [
    "Notebooks are, in essence, a very nice graphical interface to allow you to run python code.\n",
    "\n",
    "If you want to move to using regular python, there are some things you want to consider\n",
    "\n",
    "  1. Interactivity: e.g., how to test out a specific function or piece of code in a large code-base.  For this we are going to focus on using pdb, the python debugger.\n",
    "  2. code cleanup: i.e., tools that help you identify and fix problems.  For this we are going to focus on code-linters.\n",
    "  3. Performance: i.e., tools that help you identify where you speed up your code the most.   For this we are going to focus on timing and profiling. "
   ]
  },
  {
   "cell_type": "code",
   "execution_count": null,
   "metadata": {},
   "outputs": [],
   "source": []
  },
  {
   "cell_type": "code",
   "execution_count": null,
   "metadata": {},
   "outputs": [],
   "source": []
  }
 ],
 "metadata": {
  "kernelspec": {
   "display_name": "Python 3",
   "language": "python",
   "name": "python3"
  },
  "language_info": {
   "codemirror_mode": {
    "name": "ipython",
    "version": 3
   },
   "file_extension": ".py",
   "mimetype": "text/x-python",
   "name": "python",
   "nbconvert_exporter": "python",
   "pygments_lexer": "ipython3",
   "version": "3.8.3"
  }
 },
 "nbformat": 4,
 "nbformat_minor": 4
}
